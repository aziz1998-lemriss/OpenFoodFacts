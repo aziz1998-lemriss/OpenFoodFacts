{
  "nbformat": 4,
  "nbformat_minor": 0,
  "metadata": {
    "colab": {
      "name": "Data Visualisation.ipynb",
      "provenance": [],
      "private_outputs": true,
      "collapsed_sections": [],
      "toc_visible": true
    },
    "kernelspec": {
      "name": "python3",
      "display_name": "Python 3"
    },
    "accelerator": "GPU"
  },
  "cells": [
    {
      "cell_type": "markdown",
      "metadata": {
        "id": "u8d3BHiX29PD"
      },
      "source": [
        "# Project Descreption"
      ]
    },
    {
      "cell_type": "markdown",
      "metadata": {
        "id": "qB7qY8bs26BD"
      },
      "source": [
        "The Objective of this project is :\n",
        "\n",
        "1.   Use the OpenFoodFact   that shows  characteristics of certain product groups, similarities between products and product groups, to provide a global view of the dataset, and exhibit salient features that are of interest for an analyst or stakeholder in this sector.\n",
        "\n",
        "2.   Use some machine learning algorithms to : \n",
        "\n",
        "        *   predict the **nutriscore_grade** of a product given nutritional values and possibly other fields (as few as possible)\n",
        "        *   predict the **nova_group** of a product given nutritional values and possibly other fields (as few as possible),\n",
        "        *   predict the **pnns_groups_1** of a product given nutritional values and possibly other fields (as few as possible),\n",
        "        *   predict the **pnns_groups_2** of a product given nutritional values and possibly other fields (as few as possible),\n",
        "        *   predict the **categories** (either atomic categories or lists of categories) of a product given nutritional values and possibly other fields (as few as possible),\n",
        "        *   predict one or more **nutritional values** (ex: sugars_100g) given nutritional values and possibly other fields (as few as possible)\n",
        "        \n",
        "\n",
        "\n",
        "\n",
        "\n"
      ]
    },
    {
      "cell_type": "markdown",
      "metadata": {
        "id": "gIzZtUkU7hHC"
      },
      "source": [
        "# Importing the Libraries"
      ]
    },
    {
      "cell_type": "code",
      "metadata": {
        "id": "sfs3MJGW0Nef"
      },
      "source": [
        "import pandas as pd\n",
        "import matplotlib.pyplot as plt\n",
        "%matplotlib inline\n",
        "plt.style.use('seaborn')\n",
        "from scipy.stats import norm, skew\n",
        "import numpy as np\n",
        "import seaborn as sns\n",
        "from sklearn.preprocessing import  StandardScaler,  LabelEncoder\n",
        "from sklearn.model_selection import train_test_split, cross_val_score\n",
        "from scipy.stats import skew\n",
        "from scipy.special import boxcox1p\n",
        "from scipy.stats import boxcox_normmax\n",
        "import statsmodels.api as sm\n",
        "from sklearn.manifold import TSNE\n",
        "from sklearn.decomposition import PCA, TruncatedSVD\n",
        "from sklearn.linear_model import Ridge, RidgeCV, ElasticNet, LassoCV, LassoLarsCV\n",
        "import lightgbm as lgb\n",
        "from sklearn.compose import ColumnTransformer\n",
        "from xgboost import XGBRegressor\n"
      ],
      "execution_count": null,
      "outputs": []
    },
    {
      "cell_type": "markdown",
      "metadata": {
        "id": "G3sSjVaZ8ZJ9"
      },
      "source": [
        "# Importing the dataset"
      ]
    },
    {
      "cell_type": "code",
      "metadata": {
        "id": "TJoQnJ0X1PnT"
      },
      "source": [
        "from google.colab import drive\n",
        "drive.mount('/content/drive')"
      ],
      "execution_count": null,
      "outputs": []
    },
    {
      "cell_type": "code",
      "metadata": {
        "id": "Nygdy2reyHCO"
      },
      "source": [
        "data = pd.read_csv('/content/drive/My Drive/off_complete.csv', sep = '\\t')"
      ],
      "execution_count": null,
      "outputs": []
    },
    {
      "cell_type": "code",
      "metadata": {
        "id": "MtizgEgULffV"
      },
      "source": [
        "data.shape"
      ],
      "execution_count": null,
      "outputs": []
    },
    {
      "cell_type": "code",
      "metadata": {
        "id": "ssQyBMqNyKLs"
      },
      "source": [
        "data.head()\n"
      ],
      "execution_count": null,
      "outputs": []
    },
    {
      "cell_type": "markdown",
      "metadata": {
        "id": "1OFzKIF8yUSt"
      },
      "source": [
        "# Data Visualisation"
      ]
    },
    {
      "cell_type": "code",
      "metadata": {
        "id": "VewcQhYPLiV_"
      },
      "source": [
        "plt.rcParams['figure.figsize'] = (30, 20)\n",
        "sns.heatmap(data.corr(), annot = True)\n",
        "plt.title('Histogram of the Dataset', fontsize = 30)\n",
        "plt.xticks(size = 25)\n",
        "plt.yticks(size = 25)\n",
        "plt.show()"
      ],
      "execution_count": null,
      "outputs": []
    },
    {
      "cell_type": "markdown",
      "metadata": {
        "id": "vYDO7HFeMN63"
      },
      "source": [
        "**Note :**\n",
        "From the heatmap, we can see that **Nutriscore_score** and **Nutriscore_score_fr** are totaly correlated, and **Sodium** and **Salt** too, so we can delete them."
      ]
    },
    {
      "cell_type": "code",
      "metadata": {
        "id": "Ka2PXzVUM6h7"
      },
      "source": [
        "data.drop(['salt_100g'], 1, inplace=True)\n",
        "data.drop(['nutrition-score-fr_100g'], 1, inplace=True)"
      ],
      "execution_count": null,
      "outputs": []
    },
    {
      "cell_type": "markdown",
      "metadata": {
        "id": "5hK6_hNU5Xc8"
      },
      "source": [
        "**Comparison the nutriscore grade for every code**"
      ]
    },
    {
      "cell_type": "code",
      "metadata": {
        "id": "5zT5uk4gyX4G"
      },
      "source": [
        "plt.rcParams['figure.figsize'] = (10, 6)\n",
        "sns.countplot(data['nutriscore_grade'], palette = 'pink')\n",
        "plt.title('Most Existing Nutriscore Grade ', fontsize = 20)\n",
        "plt.show()"
      ],
      "execution_count": null,
      "outputs": []
    },
    {
      "cell_type": "markdown",
      "metadata": {
        "id": "3pp_ymtF5w6Q"
      },
      "source": [
        "**comparison of nova_group for every code**"
      ]
    },
    {
      "cell_type": "code",
      "metadata": {
        "id": "DfAw9rbR5sZ-"
      },
      "source": [
        "plt.rcParams['figure.figsize'] = (10, 5)\n",
        "sns.countplot(data['nova_group'])\n",
        "plt.title('Most Existing nova_group ', fontsize = 20)\n",
        "plt.show()"
      ],
      "execution_count": null,
      "outputs": []
    },
    {
      "cell_type": "markdown",
      "metadata": {
        "id": "J215dZrY6RuL"
      },
      "source": [
        "different pnns_groups_1 acquired by the the products"
      ]
    },
    {
      "cell_type": "code",
      "metadata": {
        "id": "E-Ks4FG95seG"
      },
      "source": [
        "plt.rcParams['figure.figsize'] = (40, 25)\n",
        "\n",
        "plt.style.use('fivethirtyeight')\n",
        "ax = sns.countplot(data['pnns_groups_1'], palette = 'bone')\n",
        "ax.set_xlabel(xlabel = 'Different pnns_groups_1', fontsize = 40)\n",
        "ax.set_ylabel(ylabel = 'Count of Products', fontsize = 40)\n",
        "ax.set_title(label = 'Comparison of pnns_groups_1 and products', fontsize = 40)\n",
        "plt.xticks(size = 25)\n",
        "plt.yticks(size = 30)\n",
        "plt.show()"
      ],
      "execution_count": null,
      "outputs": []
    },
    {
      "cell_type": "markdown",
      "metadata": {
        "id": "s456aLF66iAB"
      },
      "source": [
        "**Comparing the product's nutriscore_score**"
      ]
    },
    {
      "cell_type": "code",
      "metadata": {
        "id": "yCnOoWcY6iRD"
      },
      "source": [
        "import warnings\n",
        "warnings.filterwarnings('ignore')\n",
        "\n",
        "plt.rcParams['figure.figsize'] = (25, 15)\n",
        "sns.distplot(data['nutriscore_score'], color = 'blue')\n",
        "plt.xlabel('nutriscore_score Range for Products', fontsize = 16)\n",
        "plt.ylabel('Count of the Products', fontsize = 16)\n",
        "plt.title('Distribution of nutriscore_score of Products', fontsize = 20)\n",
        "plt.xticks(rotation = 90)\n",
        "plt.show()"
      ],
      "execution_count": null,
      "outputs": []
    },
    {
      "cell_type": "markdown",
      "metadata": {
        "id": "8ornX4GoCPlR"
      },
      "source": [
        " show Different fat_100g of the products"
      ]
    },
    {
      "cell_type": "code",
      "metadata": {
        "id": "7R9DyAPL5sYR"
      },
      "source": [
        "sns.distplot(data['fat_100g'], color = 'pink')\n",
        "plt.title('Different fat_100g of the products')\n",
        "plt.xlabel('fat_100g associated with the Products')\n",
        "plt.ylabel('count of Products')\n",
        "plt.show()"
      ],
      "execution_count": null,
      "outputs": []
    },
    {
      "cell_type": "markdown",
      "metadata": {
        "id": "0l_fhOXkCO0g"
      },
      "source": [
        "`show Different countries tags that these products come from`"
      ]
    },
    {
      "cell_type": "code",
      "metadata": {
        "id": "EZWj4KZzCaMo"
      },
      "source": [
        "data['countries_tags'].value_counts().head(20).plot.bar(color = 'orange', figsize = (20, 7))\n",
        "plt.title('Different countries tags that these products come from', fontsize = 30, fontweight = 20)\n",
        "plt.xlabel('Name of The Country')\n",
        "plt.ylabel('count')\n",
        "plt.xticks(size = 25)\n",
        "plt.show()"
      ],
      "execution_count": null,
      "outputs": []
    },
    {
      "cell_type": "markdown",
      "metadata": {
        "id": "jp6fH-BfC0gg"
      },
      "source": [
        "**show Different brands of the products**"
      ]
    },
    {
      "cell_type": "code",
      "metadata": {
        "id": "yuveYMs-CaWt"
      },
      "source": [
        "data['brands'].value_counts().head(20).plot.bar(color = 'orange', figsize = (15, 7))\n",
        "plt.title('Different brands of the products', fontsize = 30, fontweight = 20)\n",
        "plt.xlabel('Name of The Brand')\n",
        "plt.ylabel('count')\n",
        "plt.xticks(size = 25)\n",
        "plt.show()"
      ],
      "execution_count": null,
      "outputs": []
    },
    {
      "cell_type": "markdown",
      "metadata": {
        "id": "zrlinM9bC6_i"
      },
      "source": [
        "best product per each nutriscore_grade with their , pnns_groups_2, pnns_groups_1 and code  based on their  energy-kcal_100g\n"
      ]
    },
    {
      "cell_type": "code",
      "metadata": {
        "id": "NqvrDeKHCabg"
      },
      "source": [
        "data.iloc[data.groupby(data['nutriscore_grade'])['energy-kcal_100g'].idxmax()][['nutriscore_grade','product_name','nova_group', 'pnns_groups_1',\n",
        "                                                                    'pnns_groups_2','energy-kcal_100g']].style.background_gradient('Reds')\n"
      ],
      "execution_count": null,
      "outputs": []
    },
    {
      "cell_type": "markdown",
      "metadata": {
        "id": "Ac-NA4AXDUW9"
      },
      "source": [
        "best product per each nutriscore_grade with their , pnns_groups_2, pnns_groups_1 and code  based on their  proteins_100g\n"
      ]
    },
    {
      "cell_type": "code",
      "metadata": {
        "id": "R75Xx1xjCaf5"
      },
      "source": [
        "data.iloc[data.groupby(data['nutriscore_grade'])['proteins_100g'].idxmax()][['nutriscore_grade','product_name','nova_group', 'pnns_groups_1',\n",
        "                                                                    'pnns_groups_2','proteins_100g']].style.background_gradient('Blues')"
      ],
      "execution_count": null,
      "outputs": []
    },
    {
      "cell_type": "markdown",
      "metadata": {
        "id": "1ZUrNf5eEenw"
      },
      "source": [
        "**best product per each nutriscore_grade with their , pnns_groups_2, pnns_groups_1 and code  based on their  energy-kcal_100g**"
      ]
    },
    {
      "cell_type": "code",
      "metadata": {
        "id": "Iic_LCqCCaae"
      },
      "source": [
        "data.iloc[data.groupby(data['nutriscore_grade'])['carbohydrates_100g'].idxmax()][['nutriscore_grade','product_name','nova_group', 'pnns_groups_1',\n",
        "                                                                    'pnns_groups_2','carbohydrates_100g']].style.background_gradient('Reds')\n"
      ],
      "execution_count": null,
      "outputs": []
    },
    {
      "cell_type": "markdown",
      "metadata": {
        "id": "6MdVUc7UE7xD"
      },
      "source": [
        "**picking up the countries_tags with highest number of products**"
      ]
    },
    {
      "cell_type": "code",
      "metadata": {
        "id": "IleKqqEEE789"
      },
      "source": [
        "data['countries_tags'].value_counts().head(8)"
      ],
      "execution_count": null,
      "outputs": []
    },
    {
      "cell_type": "markdown",
      "metadata": {
        "id": "lZSE7wrFFdDK"
      },
      "source": [
        "**the most  countries_tags's products and their nutriscore_score**"
      ]
    },
    {
      "cell_type": "code",
      "metadata": {
        "id": "xBHCIu8NE8E1"
      },
      "source": [
        "some_countries = ('en:france', 'en:united-states', 'en:spain', 'en:belgium', 'en:united-kingdom', 'en:germany',\n",
        "                  'en:canada', 'en:france,en:germany')\n",
        "data_countries = data.loc[data['countries_tags'].isin(some_countries) & data['nutriscore_score']]\n",
        "\n",
        "plt.rcParams['figure.figsize'] = (15, 7)\n",
        "ax = sns.violinplot(x = data_countries['countries_tags'], y = data_countries['nutriscore_score'], palette = 'Reds')\n",
        "ax.set_xlabel(xlabel = 'countries_tags', fontsize = 9)\n",
        "ax.set_ylabel(ylabel = 'nutriscore_scores', fontsize = 9)\n",
        "ax.set_title(label = 'Distribution of nutriscore_score of products from different countries_tags', fontsize = 20)\n",
        "plt.xticks(size = 20)\n",
        "plt.show()"
      ],
      "execution_count": null,
      "outputs": []
    },
    {
      "cell_type": "markdown",
      "metadata": {
        "id": "MK1hGcZ4Gp8o"
      },
      "source": [
        "**Every countries_tags's Product and their energy-kcal_100g**"
      ]
    },
    {
      "cell_type": "code",
      "metadata": {
        "id": "IzbqQw5JCaVL"
      },
      "source": [
        "some_countries = ('en:france', 'en:united-states', 'en:spain', 'en:belgium', 'en:united-kingdom', 'en:germany',\n",
        "                  'en:canada', 'en:france,en:germany')\n",
        "data_countries = data.loc[data['countries_tags'].isin(some_countries) & data['energy-kcal_100g']]\n",
        "\n",
        "plt.rcParams['figure.figsize'] = (15, 7)\n",
        "ax = sns.barplot(x = data_countries['countries_tags'], y = data_countries['energy-kcal_100g'],palette = 'Purples')\n",
        "ax.set_xlabel(xlabel = 'countries_tags', fontsize = 9)\n",
        "ax.set_ylabel(ylabel = 'energy-kcal_100g', fontsize = 9)\n",
        "ax.set_title(label = 'Distribution of energy-kcal_100g of products from different countries_tags', fontsize = 20)\n",
        "plt.xticks(size = 20)\n",
        "plt.show()"
      ],
      "execution_count": null,
      "outputs": []
    },
    {
      "cell_type": "markdown",
      "metadata": {
        "id": "CFtydC7uHF-N"
      },
      "source": [
        "\n",
        "**the the most used and popular product**"
      ]
    },
    {
      "cell_type": "code",
      "metadata": {
        "id": "HhEmUo9vGpcH"
      },
      "source": [
        "data['product_name'].value_counts().head(10)"
      ],
      "execution_count": null,
      "outputs": []
    },
    {
      "cell_type": "code",
      "metadata": {
        "id": "PKvoxbtSGpho"
      },
      "source": [
        "some_products = ('Pâte à sucre', 'The Madelaine Chocolate Company, Solid Milk Chocolate', 'Glaçage fondant'\n",
        "                 , 'Colorant alimentaire', 'Pain aux 2 lins', 'Miel',\n",
        "             'The Madelaine Chocolate Company, Solid Dark Chocolate', 'Crème dessert chocolat', 'Vitória crackers')\n",
        "\n",
        "data_products = data.loc[data['product_name'].isin(some_products) & data['sugars_100g']]\n",
        "\n",
        "ax = sns.boxplot(x = data_products['product_name'], y = data_products['sugars_100g'], palette = 'inferno')\n",
        "ax.set_xlabel(xlabel = 'Some Popular product_name', fontsize = 9)\n",
        "ax.set_ylabel(ylabel = ' sugars_100g', fontsize = 9)\n",
        "ax.set_title(label = 'Distribution of sugars_100g  in Different popular product_name', fontsize = 20)\n",
        "plt.xticks(rotation = 90)\n",
        "plt.xticks(size = 20)\n",
        "plt.show()"
      ],
      "execution_count": null,
      "outputs": []
    },
    {
      "cell_type": "markdown",
      "metadata": {
        "id": "0rAI0_bKHfuJ"
      },
      "source": [
        "**Distribution of nutriscore_score in some Popular products**"
      ]
    },
    {
      "cell_type": "code",
      "metadata": {
        "id": "PBqajM_oGpai"
      },
      "source": [
        "some_products = ('Pâte à sucre', 'The Madelaine Chocolate Company, Solid Milk Chocolate', 'Glaçage fondant', 'Colorant alimentaire',\n",
        "                 'Pain aux 2 lins', 'Miel','The Madelaine Chocolate Company, Solid Dark Chocolate', 'Crème dessert chocolat', 'Vitória crackers')\n",
        "\n",
        "data_products = data.loc[data['product_name'].isin(some_products) & data['nutriscore_score']]\n",
        "\n",
        "plt.rcParams['figure.figsize'] = (16, 8)\n",
        "ax = sns.violinplot(x = 'product_name', y = 'nutriscore_score', data = data_products, palette = 'bright')\n",
        "ax.set_xlabel(xlabel = 'Names of some popular products', fontsize = 10)\n",
        "ax.set_ylabel(ylabel = 'Distribution of nutriscore_score', fontsize = 10)\n",
        "ax.set_title(label = 'Disstribution of nutriscore_score  in some Popular product_name', fontsize = 20)\n",
        "plt.xticks(rotation = 90)\n",
        "plt.show()"
      ],
      "execution_count": null,
      "outputs": []
    },
    {
      "cell_type": "markdown",
      "metadata": {
        "id": "M8VB2k0KH_pU"
      },
      "source": [
        " finding 15 poorest products from  Calcium\n"
      ]
    },
    {
      "cell_type": "code",
      "metadata": {
        "id": "8Lu68H3YH3et"
      },
      "source": [
        "data.sort_values('calcium_100g', ascending = True)[['product_name','nutriscore_grade', 'code', 'nutriscore_score'\n",
        ",'countries_tags', 'calcium_100g']].head(15).style.background_gradient('viridis')"
      ],
      "execution_count": null,
      "outputs": []
    },
    {
      "cell_type": "markdown",
      "metadata": {
        "id": "w9hm7arAIMPd"
      },
      "source": [
        "finding 15 richest products from  Calcium"
      ]
    },
    {
      "cell_type": "code",
      "metadata": {
        "id": "y0w654l3H3kF"
      },
      "source": [
        "\n",
        "data.sort_values('calcium_100g', ascending = False)[['product_name','nutriscore_grade', 'code', 'nutriscore_score',\n",
        "                                                   'countries_tags', 'calcium_100g']].head(15).style.background_gradient('viridis')"
      ],
      "execution_count": null,
      "outputs": []
    },
    {
      "cell_type": "markdown",
      "metadata": {
        "id": "XHpItwrwIXvQ"
      },
      "source": [
        "finding 15 poorest products from  Energie"
      ]
    },
    {
      "cell_type": "code",
      "metadata": {
        "id": "tE6AgnRkH3ik"
      },
      "source": [
        "data.sort_values('energy-kcal_100g', ascending = True)[['product_name', 'nutriscore_grade','code', 'nutriscore_score',\n",
        "                                                      'countries_tags', 'energy-kcal_100g']].head(15).style.background_gradient('viridis')"
      ],
      "execution_count": null,
      "outputs": []
    },
    {
      "cell_type": "markdown",
      "metadata": {
        "id": "ZzR9CPXoItky"
      },
      "source": [
        "**Finding 15 richest products from  Energie**"
      ]
    },
    {
      "cell_type": "code",
      "metadata": {
        "id": "1mTfjtTKH3dF"
      },
      "source": [
        "data.sort_values('energy-kcal_100g', ascending = False)[['product_name', 'nutriscore_grade','code', \n",
        "                                                       'nutriscore_score','countries_tags', 'energy-kcal_100g']].head(15).style.background_gradient('viridis')"
      ],
      "execution_count": null,
      "outputs": []
    },
    {
      "cell_type": "code",
      "metadata": {
        "id": "3PTkH_J5Jind"
      },
      "source": [
        "def productdata(x):\n",
        "    return data.loc[x,:]\n",
        "\n",
        "x = productdata(233)  \n",
        "pd.set_option('display.max_rows', 200)\n",
        "x = pd.DataFrame(x)\n",
        "print(x)"
      ],
      "execution_count": null,
      "outputs": []
    }
  ]
}