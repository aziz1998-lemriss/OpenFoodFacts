{
 "cells": [
  {
   "cell_type": "markdown",
   "metadata": {
    "id": "u8d3BHiX29PD"
   },
   "source": [
    "# Project Descreption"
   ]
  },
  {
   "cell_type": "markdown",
   "metadata": {
    "id": "qB7qY8bs26BD"
   },
   "source": [
    "The Objective of this project is :\n",
    "\n",
    "1.   Use the OpenFoodFact   that shows  characteristics of certain product groups, similarities between products and product groups, to provide a global view of the dataset, and exhibit salient features that are of interest for an analyst or stakeholder in this sector.\n",
    "\n",
    "2.   Use some machine learning algorithms to : \n",
    "\n",
    "        *   predict the **nutriscore_grade** of a product given nutritional values and possibly other fields (as few as possible)\n",
    "        *   predict the **nova_group** of a product given nutritional values and possibly other fields (as few as possible),\n",
    "        *   predict the **pnns_groups_1** of a product given nutritional values and possibly other fields (as few as possible),\n",
    "        *   predict the **pnns_groups_2** of a product given nutritional values and possibly other fields (as few as possible),\n",
    "        *   predict the **categories** (either atomic categories or lists of categories) of a product given nutritional values and possibly other fields (as few as possible),\n",
    "        *   predict one or more **nutritional values** (ex: sugars_100g) given nutritional values and possibly other fields (as few as possible)\n",
    "        \n",
    "\n",
    "\n",
    "\n",
    "\n"
   ]
  },
  {
   "cell_type": "markdown",
   "metadata": {
    "id": "gIzZtUkU7hHC"
   },
   "source": [
    "# Importing the Libraries"
   ]
  },
  {
   "cell_type": "code",
   "execution_count": 1,
   "metadata": {},
   "outputs": [
    {
     "name": "stdout",
     "output_type": "stream",
     "text": [
      "Requirement already satisfied: lightgbm in c:\\users\\dell\\anaconda3\\lib\\site-packages (3.0.0)\n",
      "Requirement already satisfied: scikit-learn!=0.22.0 in c:\\users\\dell\\anaconda3\\lib\\site-packages (from lightgbm) (0.23.1)\n",
      "Requirement already satisfied: scipy in c:\\users\\dell\\anaconda3\\lib\\site-packages (from lightgbm) (1.5.0)\n",
      "Requirement already satisfied: numpy in c:\\users\\dell\\anaconda3\\lib\\site-packages (from lightgbm) (1.18.5)\n",
      "Requirement already satisfied: threadpoolctl>=2.0.0 in c:\\users\\dell\\anaconda3\\lib\\site-packages (from scikit-learn!=0.22.0->lightgbm) (2.1.0)\n",
      "Requirement already satisfied: joblib>=0.11 in c:\\users\\dell\\anaconda3\\lib\\site-packages (from scikit-learn!=0.22.0->lightgbm) (0.16.0)\n",
      "Note: you may need to restart the kernel to use updated packages.\n"
     ]
    }
   ],
   "source": [
    "pip install lightgbm"
   ]
  },
  {
   "cell_type": "code",
   "execution_count": 2,
   "metadata": {},
   "outputs": [
    {
     "name": "stdout",
     "output_type": "stream",
     "text": [
      "Requirement already satisfied: xgboost in c:\\users\\dell\\anaconda3\\lib\\site-packages (1.2.1)\n",
      "Requirement already satisfied: scipy in c:\\users\\dell\\anaconda3\\lib\\site-packages (from xgboost) (1.5.0)\n",
      "Requirement already satisfied: numpy in c:\\users\\dell\\anaconda3\\lib\\site-packages (from xgboost) (1.18.5)\n",
      "Note: you may need to restart the kernel to use updated packages.\n"
     ]
    }
   ],
   "source": [
    "pip install xgboost"
   ]
  },
  {
   "cell_type": "code",
   "execution_count": 3,
   "metadata": {
    "id": "sfs3MJGW0Nef"
   },
   "outputs": [],
   "source": [
    "import pandas as pd\n",
    "import matplotlib.pyplot as plt\n",
    "import matplotlib.patches as mpatches\n",
    "%matplotlib inline\n",
    "plt.style.use('seaborn')\n",
    "from scipy.stats import norm, skew\n",
    "import numpy as np\n",
    "import seaborn as sns\n",
    "from sklearn.preprocessing import  StandardScaler,  LabelEncoder\n",
    "from sklearn.model_selection import train_test_split, GridSearchCV, RandomizedSearchCV, cross_val_score\n",
    "from scipy.stats import skew\n",
    "from scipy.special import boxcox1p\n",
    "from scipy.stats import boxcox_normmax\n",
    "import statsmodels.api as sm\n",
    "from sklearn.manifold import TSNE\n",
    "from sklearn.decomposition import PCA, TruncatedSVD\n",
    "import lightgbm as lgb\n",
    "from xgboost import XGBClassifier\n",
    "from sklearn.linear_model import LogisticRegression\n",
    "from sklearn.svm import SVC\n",
    "from sklearn.neighbors import KNeighborsClassifier\n",
    "from sklearn.ensemble import RandomForestClassifier\n",
    "from sklearn.tree import DecisionTreeClassifier\n",
    "from sklearn.metrics import accuracy_score, roc_auc_score, roc_curve, plot_roc_curve"
   ]
  },
  {
   "cell_type": "markdown",
   "metadata": {
    "id": "G3sSjVaZ8ZJ9"
   },
   "source": [
    "# Importing the dataset"
   ]
  },
  {
   "cell_type": "code",
   "execution_count": 4,
   "metadata": {
    "id": "Nygdy2reyHCO"
   },
   "outputs": [],
   "source": [
    "data = pd.read_csv('C:/Users/DELL/Desktop/off_complete.csv', sep = '\\t', nrows = 10000)"
   ]
  },
  {
   "cell_type": "code",
   "execution_count": 5,
   "metadata": {
    "id": "MtizgEgULffV"
   },
   "outputs": [
    {
     "data": {
      "text/plain": [
       "(10000, 29)"
      ]
     },
     "execution_count": 5,
     "metadata": {},
     "output_type": "execute_result"
    }
   ],
   "source": [
    "data.shape"
   ]
  },
  {
   "cell_type": "code",
   "execution_count": 6,
   "metadata": {
    "id": "ssQyBMqNyKLs"
   },
   "outputs": [
    {
     "data": {
      "text/html": [
       "<div>\n",
       "<style scoped>\n",
       "    .dataframe tbody tr th:only-of-type {\n",
       "        vertical-align: middle;\n",
       "    }\n",
       "\n",
       "    .dataframe tbody tr th {\n",
       "        vertical-align: top;\n",
       "    }\n",
       "\n",
       "    .dataframe thead th {\n",
       "        text-align: right;\n",
       "    }\n",
       "</style>\n",
       "<table border=\"1\" class=\"dataframe\">\n",
       "  <thead>\n",
       "    <tr style=\"text-align: right;\">\n",
       "      <th></th>\n",
       "      <th>code</th>\n",
       "      <th>url</th>\n",
       "      <th>product_name</th>\n",
       "      <th>brands</th>\n",
       "      <th>categories</th>\n",
       "      <th>countries_tags</th>\n",
       "      <th>additives_tags</th>\n",
       "      <th>nutriscore_score</th>\n",
       "      <th>nutriscore_grade</th>\n",
       "      <th>nova_group</th>\n",
       "      <th>...</th>\n",
       "      <th>sugars_100g</th>\n",
       "      <th>fiber_100g</th>\n",
       "      <th>proteins_100g</th>\n",
       "      <th>salt_100g</th>\n",
       "      <th>sodium_100g</th>\n",
       "      <th>vitamin-a_100g</th>\n",
       "      <th>vitamin-c_100g</th>\n",
       "      <th>calcium_100g</th>\n",
       "      <th>iron_100g</th>\n",
       "      <th>nutrition-score-fr_100g</th>\n",
       "    </tr>\n",
       "  </thead>\n",
       "  <tbody>\n",
       "    <tr>\n",
       "      <th>0</th>\n",
       "      <td>0000000020114</td>\n",
       "      <td>http://world-fr.openfoodfacts.org/produit/0000...</td>\n",
       "      <td>Naturablue original</td>\n",
       "      <td>Natura4Ever</td>\n",
       "      <td>Compléments alimentaires</td>\n",
       "      <td>en:france</td>\n",
       "      <td>en:e422</td>\n",
       "      <td>NaN</td>\n",
       "      <td>NaN</td>\n",
       "      <td>4.0</td>\n",
       "      <td>...</td>\n",
       "      <td>0.0</td>\n",
       "      <td>NaN</td>\n",
       "      <td>0.00</td>\n",
       "      <td>NaN</td>\n",
       "      <td>NaN</td>\n",
       "      <td>NaN</td>\n",
       "      <td>0.08000</td>\n",
       "      <td>NaN</td>\n",
       "      <td>NaN</td>\n",
       "      <td>NaN</td>\n",
       "    </tr>\n",
       "    <tr>\n",
       "      <th>1</th>\n",
       "      <td>0000000290616</td>\n",
       "      <td>http://world-fr.openfoodfacts.org/produit/0000...</td>\n",
       "      <td>Salade Cesar</td>\n",
       "      <td>Kirkland Signature</td>\n",
       "      <td>Aliments et boissons à base de végétaux, Alime...</td>\n",
       "      <td>en:canada</td>\n",
       "      <td>en:e341,en:e341i,en:e415,en:e517</td>\n",
       "      <td>6.0</td>\n",
       "      <td>c</td>\n",
       "      <td>4.0</td>\n",
       "      <td>...</td>\n",
       "      <td>0.0</td>\n",
       "      <td>2.00</td>\n",
       "      <td>22.00</td>\n",
       "      <td>2.160</td>\n",
       "      <td>0.864</td>\n",
       "      <td>0.000000</td>\n",
       "      <td>0.00000</td>\n",
       "      <td>0.0000</td>\n",
       "      <td>0.00000</td>\n",
       "      <td>6.0</td>\n",
       "    </tr>\n",
       "    <tr>\n",
       "      <th>2</th>\n",
       "      <td>0000000394710</td>\n",
       "      <td>http://world-fr.openfoodfacts.org/produit/0000...</td>\n",
       "      <td>Danoises à la cannelle roulées</td>\n",
       "      <td>Kirkland Signature</td>\n",
       "      <td>Snacks, Snacks sucrés, Biscuits et gâteaux, Pâ...</td>\n",
       "      <td>en:canada</td>\n",
       "      <td>en:e1100,en:e202,en:e203,en:e330,en:e406,en:e4...</td>\n",
       "      <td>NaN</td>\n",
       "      <td>NaN</td>\n",
       "      <td>4.0</td>\n",
       "      <td>...</td>\n",
       "      <td>28.1</td>\n",
       "      <td>2.05</td>\n",
       "      <td>4.79</td>\n",
       "      <td>0.922</td>\n",
       "      <td>0.369</td>\n",
       "      <td>0.000205</td>\n",
       "      <td>0.00616</td>\n",
       "      <td>0.0548</td>\n",
       "      <td>0.00247</td>\n",
       "      <td>NaN</td>\n",
       "    </tr>\n",
       "    <tr>\n",
       "      <th>3</th>\n",
       "      <td>0000000491228</td>\n",
       "      <td>http://world-fr.openfoodfacts.org/produit/0000...</td>\n",
       "      <td>Entremets Crème Brulée</td>\n",
       "      <td>Comme j'aime</td>\n",
       "      <td>Produits laitiers, Desserts, Produits déshydra...</td>\n",
       "      <td>en:france</td>\n",
       "      <td>en:e102,en:e110,en:e407,en:e471</td>\n",
       "      <td>2.0</td>\n",
       "      <td>b</td>\n",
       "      <td>4.0</td>\n",
       "      <td>...</td>\n",
       "      <td>69.8</td>\n",
       "      <td>0.10</td>\n",
       "      <td>6.80</td>\n",
       "      <td>0.500</td>\n",
       "      <td>0.200</td>\n",
       "      <td>NaN</td>\n",
       "      <td>NaN</td>\n",
       "      <td>NaN</td>\n",
       "      <td>NaN</td>\n",
       "      <td>2.0</td>\n",
       "    </tr>\n",
       "    <tr>\n",
       "      <th>4</th>\n",
       "      <td>0000001938067</td>\n",
       "      <td>http://world-fr.openfoodfacts.org/produit/0000...</td>\n",
       "      <td>Chaussons tressés aux pommes</td>\n",
       "      <td>Kirkland Signature</td>\n",
       "      <td>Snacks, Snacks sucrés, Biscuits et gâteaux, Vi...</td>\n",
       "      <td>en:canada</td>\n",
       "      <td>en:e202,en:e211,en:e330</td>\n",
       "      <td>9.0</td>\n",
       "      <td>c</td>\n",
       "      <td>4.0</td>\n",
       "      <td>...</td>\n",
       "      <td>24.7</td>\n",
       "      <td>2.00</td>\n",
       "      <td>3.33</td>\n",
       "      <td>0.647</td>\n",
       "      <td>0.259</td>\n",
       "      <td>0.000000</td>\n",
       "      <td>0.00160</td>\n",
       "      <td>0.0133</td>\n",
       "      <td>0.00048</td>\n",
       "      <td>9.0</td>\n",
       "    </tr>\n",
       "  </tbody>\n",
       "</table>\n",
       "<p>5 rows × 29 columns</p>\n",
       "</div>"
      ],
      "text/plain": [
       "            code                                                url  \\\n",
       "0  0000000020114  http://world-fr.openfoodfacts.org/produit/0000...   \n",
       "1  0000000290616  http://world-fr.openfoodfacts.org/produit/0000...   \n",
       "2  0000000394710  http://world-fr.openfoodfacts.org/produit/0000...   \n",
       "3  0000000491228  http://world-fr.openfoodfacts.org/produit/0000...   \n",
       "4  0000001938067  http://world-fr.openfoodfacts.org/produit/0000...   \n",
       "\n",
       "                     product_name              brands  \\\n",
       "0             Naturablue original         Natura4Ever   \n",
       "1                    Salade Cesar  Kirkland Signature   \n",
       "2  Danoises à la cannelle roulées  Kirkland Signature   \n",
       "3          Entremets Crème Brulée        Comme j'aime   \n",
       "4    Chaussons tressés aux pommes  Kirkland Signature   \n",
       "\n",
       "                                          categories countries_tags  \\\n",
       "0                           Compléments alimentaires      en:france   \n",
       "1  Aliments et boissons à base de végétaux, Alime...      en:canada   \n",
       "2  Snacks, Snacks sucrés, Biscuits et gâteaux, Pâ...      en:canada   \n",
       "3  Produits laitiers, Desserts, Produits déshydra...      en:france   \n",
       "4  Snacks, Snacks sucrés, Biscuits et gâteaux, Vi...      en:canada   \n",
       "\n",
       "                                      additives_tags  nutriscore_score  \\\n",
       "0                                            en:e422               NaN   \n",
       "1                   en:e341,en:e341i,en:e415,en:e517               6.0   \n",
       "2  en:e1100,en:e202,en:e203,en:e330,en:e406,en:e4...               NaN   \n",
       "3                    en:e102,en:e110,en:e407,en:e471               2.0   \n",
       "4                            en:e202,en:e211,en:e330               9.0   \n",
       "\n",
       "  nutriscore_grade  nova_group  ... sugars_100g fiber_100g proteins_100g  \\\n",
       "0              NaN         4.0  ...         0.0        NaN          0.00   \n",
       "1                c         4.0  ...         0.0       2.00         22.00   \n",
       "2              NaN         4.0  ...        28.1       2.05          4.79   \n",
       "3                b         4.0  ...        69.8       0.10          6.80   \n",
       "4                c         4.0  ...        24.7       2.00          3.33   \n",
       "\n",
       "   salt_100g  sodium_100g  vitamin-a_100g  vitamin-c_100g  calcium_100g  \\\n",
       "0        NaN          NaN             NaN         0.08000           NaN   \n",
       "1      2.160        0.864        0.000000         0.00000        0.0000   \n",
       "2      0.922        0.369        0.000205         0.00616        0.0548   \n",
       "3      0.500        0.200             NaN             NaN           NaN   \n",
       "4      0.647        0.259        0.000000         0.00160        0.0133   \n",
       "\n",
       "   iron_100g  nutrition-score-fr_100g  \n",
       "0        NaN                      NaN  \n",
       "1    0.00000                      6.0  \n",
       "2    0.00247                      NaN  \n",
       "3        NaN                      2.0  \n",
       "4    0.00048                      9.0  \n",
       "\n",
       "[5 rows x 29 columns]"
      ]
     },
     "execution_count": 6,
     "metadata": {},
     "output_type": "execute_result"
    }
   ],
   "source": [
    "data.head()"
   ]
  },
  {
   "cell_type": "markdown",
   "metadata": {
    "id": "3vdBaJTN8fRM"
   },
   "source": [
    "# Data Preprocessing"
   ]
  },
  {
   "cell_type": "code",
   "execution_count": 7,
   "metadata": {
    "id": "amZQmAOppN1j"
   },
   "outputs": [],
   "source": [
    "data.drop(['salt_100g'], 1, inplace=True)\n",
    "data.drop(['nutrition-score-fr_100g'], 1, inplace=True)                         "
   ]
  },
  {
   "cell_type": "code",
   "execution_count": 8,
   "metadata": {
    "id": "XFpcCw04739T"
   },
   "outputs": [
    {
     "data": {
      "text/plain": [
       "(10000, 27)"
      ]
     },
     "execution_count": 8,
     "metadata": {},
     "output_type": "execute_result"
    }
   ],
   "source": [
    "data.shape"
   ]
  },
  {
   "cell_type": "code",
   "execution_count": 9,
   "metadata": {
    "id": "Yl8C-Sq28qDd"
   },
   "outputs": [
    {
     "data": {
      "text/plain": [
       "Index(['code', 'url', 'product_name', 'brands', 'categories', 'countries_tags',\n",
       "       'additives_tags', 'nutriscore_score', 'nutriscore_grade', 'nova_group',\n",
       "       'pnns_groups_1', 'pnns_groups_2', 'states', 'energy-kcal_100g',\n",
       "       'fat_100g', 'saturated-fat_100g', 'trans-fat_100g', 'cholesterol_100g',\n",
       "       'carbohydrates_100g', 'sugars_100g', 'fiber_100g', 'proteins_100g',\n",
       "       'sodium_100g', 'vitamin-a_100g', 'vitamin-c_100g', 'calcium_100g',\n",
       "       'iron_100g'],\n",
       "      dtype='object')"
      ]
     },
     "execution_count": 9,
     "metadata": {},
     "output_type": "execute_result"
    }
   ],
   "source": [
    "data.columns"
   ]
  },
  {
   "cell_type": "code",
   "execution_count": 10,
   "metadata": {
    "id": "SjoUW3UZ9s_k"
   },
   "outputs": [
    {
     "name": "stdout",
     "output_type": "stream",
     "text": [
      "<class 'pandas.core.frame.DataFrame'>\n",
      "RangeIndex: 10000 entries, 0 to 9999\n",
      "Data columns (total 27 columns):\n",
      " #   Column              Non-Null Count  Dtype  \n",
      "---  ------              --------------  -----  \n",
      " 0   code                10000 non-null  object \n",
      " 1   url                 10000 non-null  object \n",
      " 2   product_name        10000 non-null  object \n",
      " 3   brands              10000 non-null  object \n",
      " 4   categories          10000 non-null  object \n",
      " 5   countries_tags      9957 non-null   object \n",
      " 6   additives_tags      5467 non-null   object \n",
      " 7   nutriscore_score    7727 non-null   float64\n",
      " 8   nutriscore_grade    7727 non-null   object \n",
      " 9   nova_group          8997 non-null   float64\n",
      " 10  pnns_groups_1       9737 non-null   object \n",
      " 11  pnns_groups_2       10000 non-null  object \n",
      " 12  states              10000 non-null  object \n",
      " 13  energy-kcal_100g    6248 non-null   float64\n",
      " 14  fat_100g            8479 non-null   float64\n",
      " 15  saturated-fat_100g  8217 non-null   float64\n",
      " 16  trans-fat_100g      1427 non-null   float64\n",
      " 17  cholesterol_100g    1518 non-null   float64\n",
      " 18  carbohydrates_100g  8441 non-null   float64\n",
      " 19  sugars_100g         8281 non-null   float64\n",
      " 20  fiber_100g          5348 non-null   float64\n",
      " 21  proteins_100g       8425 non-null   float64\n",
      " 22  sodium_100g         8317 non-null   float64\n",
      " 23  vitamin-a_100g      1381 non-null   float64\n",
      " 24  vitamin-c_100g      1440 non-null   float64\n",
      " 25  calcium_100g        1727 non-null   float64\n",
      " 26  iron_100g           1646 non-null   float64\n",
      "dtypes: float64(16), object(11)\n",
      "memory usage: 2.1+ MB\n"
     ]
    }
   ],
   "source": [
    "data.info()"
   ]
  },
  {
   "cell_type": "markdown",
   "metadata": {
    "id": "vWClt78lIisy"
   },
   "source": [
    "**Note**\n",
    "\n",
    "While the code of products refers to manufacturer-specific coding with tariff indication, The country or the company markets the product, The manufacturer, the Article code and a control key, so we can drop the  product code , because we already have the country that markets the product."
   ]
  },
  {
   "cell_type": "code",
   "execution_count": 11,
   "metadata": {
    "id": "4V8WxKwb-n4k"
   },
   "outputs": [],
   "source": [
    "data.drop(['code'], 1, inplace=True)"
   ]
  },
  {
   "cell_type": "code",
   "execution_count": 12,
   "metadata": {
    "id": "Ua4oj2IhKwc_"
   },
   "outputs": [
    {
     "data": {
      "text/plain": [
       "array(['http://world-fr.openfoodfacts.org/produit/0000000020114/naturablue-original-natura4ever',\n",
       "       'http://world-fr.openfoodfacts.org/produit/0000000290616/salade-cesar-kirkland-signature',\n",
       "       'http://world-fr.openfoodfacts.org/produit/0000000394710/danoises-a-la-cannelle-roulees-kirkland-signature',\n",
       "       ...,\n",
       "       'http://world-fr.openfoodfacts.org/produit/20426255/baguette-cereales-a-finir-de-cuire-maitre-jean-pierre',\n",
       "       'http://world-fr.openfoodfacts.org/produit/20426262/baguette-a-finir-de-cuire-maitre-jean-pierre',\n",
       "       'http://world-fr.openfoodfacts.org/produit/20426279/4-petits-pains-a-finir-de-cuire-maitre-jean-pierre'],\n",
       "      dtype=object)"
      ]
     },
     "execution_count": 12,
     "metadata": {},
     "output_type": "execute_result"
    }
   ],
   "source": [
    "data['url'].values"
   ]
  },
  {
   "cell_type": "markdown",
   "metadata": {
    "id": "nIxy0SMIK7oj"
   },
   "source": [
    "**Note :**\n",
    "\n",
    "We see that in every url of the products, it contains the product name and the brand, so we can drop this feature"
   ]
  },
  {
   "cell_type": "code",
   "execution_count": 13,
   "metadata": {
    "id": "oAtJXivsKwbz"
   },
   "outputs": [],
   "source": [
    "data.drop(['url'], 1, inplace=True)"
   ]
  },
  {
   "cell_type": "markdown",
   "metadata": {
    "id": "oY-o4eXSvagS"
   },
   "source": [
    "I will Try to find the pourcentage of the null values in every features, and drop the features with more than 70% of null values."
   ]
  },
  {
   "cell_type": "code",
   "execution_count": 14,
   "metadata": {
    "id": "s7B8G43GOBQB"
   },
   "outputs": [
    {
     "name": "stdout",
     "output_type": "stream",
     "text": [
      "The pourcentage of the null values of product_name is :  0.0 %\n",
      "The pourcentage of the null values of brands is :  0.0 %\n",
      "The pourcentage of the null values of categories is :  0.0 %\n",
      "The pourcentage of the null values of countries_tags is :  0.43 %\n",
      "The pourcentage of the null values of additives_tags is :  45.33 %\n",
      "The pourcentage of the null values of nutriscore_score is :  22.73 %\n",
      "The pourcentage of the null values of nutriscore_grade is :  22.73 %\n",
      "The pourcentage of the null values of nova_group is :  10.03 %\n",
      "The pourcentage of the null values of pnns_groups_1 is :  2.63 %\n",
      "The pourcentage of the null values of pnns_groups_2 is :  0.0 %\n",
      "The pourcentage of the null values of states is :  0.0 %\n",
      "The pourcentage of the null values of energy-kcal_100g is :  37.519999999999996 %\n",
      "The pourcentage of the null values of fat_100g is :  15.21 %\n",
      "The pourcentage of the null values of saturated-fat_100g is :  17.83 %\n",
      "The pourcentage of the null values of trans-fat_100g is :  85.72999999999999 %\n",
      "The pourcentage of the null values of cholesterol_100g is :  84.82 %\n",
      "The pourcentage of the null values of carbohydrates_100g is :  15.590000000000002 %\n",
      "The pourcentage of the null values of sugars_100g is :  17.19 %\n",
      "The pourcentage of the null values of fiber_100g is :  46.52 %\n",
      "The pourcentage of the null values of proteins_100g is :  15.75 %\n",
      "The pourcentage of the null values of sodium_100g is :  16.830000000000002 %\n",
      "The pourcentage of the null values of vitamin-a_100g is :  86.19 %\n",
      "The pourcentage of the null values of vitamin-c_100g is :  85.6 %\n",
      "The pourcentage of the null values of calcium_100g is :  82.73 %\n",
      "The pourcentage of the null values of iron_100g is :  83.54 %\n"
     ]
    }
   ],
   "source": [
    "for i in data.columns:\n",
    "    h = (data[i].isnull().sum()/len(data['product_name']))*100\n",
    "    print('The pourcentage of the null values of '+i+' is : ', h, '%')\n"
   ]
  },
  {
   "cell_type": "code",
   "execution_count": 15,
   "metadata": {
    "id": "HHZMyhhKvxt7"
   },
   "outputs": [],
   "source": [
    "data.drop(['trans-fat_100g'], 1, inplace=True)\n",
    "data.drop(['cholesterol_100g'], 1, inplace=True)\n",
    "data.drop(['vitamin-a_100g'], 1, inplace=True)\n",
    "data.drop(['vitamin-c_100g'], 1, inplace=True)\n",
    "data.drop(['calcium_100g'], 1, inplace=True)\n",
    "data.drop(['iron_100g'], 1, inplace=True)"
   ]
  },
  {
   "cell_type": "markdown",
   "metadata": {
    "id": "TaG-UebI3JSr"
   },
   "source": [
    "I will Pick up the countries_tags with highest number of products \n"
   ]
  },
  {
   "cell_type": "code",
   "execution_count": 16,
   "metadata": {
    "id": "7MeQRroKHauj"
   },
   "outputs": [
    {
     "data": {
      "text/plain": [
       "en:france                      3287\n",
       "en:united-states               1232\n",
       "en:germany                      629\n",
       "en:canada                       577\n",
       "en:united-kingdom               558\n",
       "en:mexico                       490\n",
       "en:france,en:united-kingdom     357\n",
       "en:spain                        354\n",
       "en:france,en:germany            274\n",
       "en:france,en:united-states      255\n",
       "en:canada,en:france             121\n",
       "en:belgium,en:france             94\n",
       "en:france,en:spain               76\n",
       "en:belgium                       71\n",
       "en:france,en:switzerland         55\n",
       "en:poland                        51\n",
       "en:austria,en:germany            48\n",
       "Name: countries_tags, dtype: int64"
      ]
     },
     "execution_count": 16,
     "metadata": {},
     "output_type": "execute_result"
    }
   ],
   "source": [
    "data['countries_tags'].value_counts().head(17)"
   ]
  },
  {
   "cell_type": "code",
   "execution_count": 17,
   "metadata": {
    "id": "-xV3okyBLPXg"
   },
   "outputs": [],
   "source": [
    "data['countries_tags']=data['countries_tags'].fillna('Unknown')"
   ]
  },
  {
   "cell_type": "code",
   "execution_count": 18,
   "metadata": {
    "id": "6pwIDV8TKoiU"
   },
   "outputs": [],
   "source": [
    "countries_tags_values = data['countries_tags'].values\n",
    "most_countries = ('en:france' , 'en:germany',  'en:spain' , 'en:mexico', 'en:united-kingdom' ,'en:canada', 'en:united-states', 'en:belgium','en:switzerland',  'en:poland')\n",
    "countrie= {'en:france' : [], 'en:germany': [],  'en:spain': [] , 'en:mexico': [], 'en:united-kingdom': [], 'en:canada': [], 'en:united-states': [], 'en:belgium': [],\n",
    "           'en:switzerland': [],'en:poland': []} \n",
    "for i in countries_tags_values : \n",
    "   for j in most_countries:\n",
    "       if j in str(i):\n",
    "         countrie[j].append(1)\n",
    "       else : \n",
    "          countrie[j].append(0)\n"
   ]
  },
  {
   "cell_type": "code",
   "execution_count": 19,
   "metadata": {
    "id": "a1_kQisd5F9I"
   },
   "outputs": [],
   "source": [
    "for i in most_countries:\n",
    "  data[i] = pd.DataFrame(countrie[i])"
   ]
  },
  {
   "cell_type": "code",
   "execution_count": 20,
   "metadata": {
    "id": "0wZ9RPDKRLz2"
   },
   "outputs": [],
   "source": [
    "data.drop(['countries_tags'], 1, inplace=True)"
   ]
  },
  {
   "cell_type": "markdown",
   "metadata": {
    "id": "Dr4_sYzzaBzl"
   },
   "source": [
    "I will work on the Product Name Feature"
   ]
  },
  {
   "cell_type": "code",
   "execution_count": 21,
   "metadata": {
    "id": "ngFT112cXB_U"
   },
   "outputs": [],
   "source": [
    "product_names_list = data['product_name'].values\n",
    "list_products = []\n",
    "for i in product_names_list:\n",
    "  i = i.replace('Le', '')\n",
    "  i = i.replace('La', '')\n",
    "  i = i.replace('2', '')\n",
    "  first_word = i.split()[0]\n",
    "  list_products.append(first_word)\n",
    "data['product_name'] = pd.DataFrame(list_products)"
   ]
  },
  {
   "cell_type": "code",
   "execution_count": 22,
   "metadata": {
    "id": "cMzZeWFvXB9J"
   },
   "outputs": [
    {
     "data": {
      "text/plain": [
       "Organic      102\n",
       "Pain          72\n",
       "Chocolate     62\n",
       "Sauce         55\n",
       "Salade        51\n",
       "Crème         43\n",
       "Original      42\n",
       "Jambon        42\n",
       "Bio           41\n",
       "Jus           41\n",
       "Name: product_name, dtype: int64"
      ]
     },
     "execution_count": 22,
     "metadata": {},
     "output_type": "execute_result"
    }
   ],
   "source": [
    "data['product_name'].value_counts().head(10)"
   ]
  },
  {
   "cell_type": "code",
   "execution_count": 23,
   "metadata": {
    "id": "Tg8X-36TZHDf"
   },
   "outputs": [],
   "source": [
    "product_name__values = data['product_name'].values\n",
    "most_products = ('Organic' , 'Pain',  'Chocolate' , 'Filet', 'Sauce' ,'Salade', 'Crème', 'Jambon','Original', 'Bio', 'Jus')\n",
    "products= {'Organic':[] , 'Pain':[],  'Chocolate':[] , 'Filet':[], 'Sauce':[] ,'Salade':[], 'Crème':[], 'Jambon':[],'Original':[], 'Bio':[], 'Jus':[]} \n",
    "for i in product_name__values : \n",
    "   for j in most_products:\n",
    "       if j in str(i):\n",
    "         products[j].append(1)\n",
    "       else : \n",
    "          products[j].append(0)\n",
    "for i in most_products:\n",
    "  data[i] = pd.DataFrame(products[i])\n",
    "data.drop(['product_name'], 1, inplace=True)"
   ]
  },
  {
   "cell_type": "code",
   "execution_count": 24,
   "metadata": {
    "id": "UAERKUZfdD0_"
   },
   "outputs": [],
   "source": [
    "data.drop(['brands'], 1, inplace=True)"
   ]
  },
  {
   "cell_type": "code",
   "execution_count": 25,
   "metadata": {
    "id": "bxI2o77SdP32"
   },
   "outputs": [],
   "source": [
    "categories_list = data['categories'].values\n",
    "list_categories = []\n",
    "for i in categories_list:\n",
    "  first_word = i.split()[0]\n",
    "  first_word = first_word.replace(',', '')\n",
    "  list_categories.append(first_word)\n",
    "data['categories'] = pd.DataFrame(list_categories)\n"
   ]
  },
  {
   "cell_type": "code",
   "execution_count": 26,
   "metadata": {
    "id": "4_MLVY74dv-E"
   },
   "outputs": [
    {
     "data": {
      "text/plain": [
       "Snacks         1284\n",
       "Aliments       1282\n",
       "Plant-based    1023\n",
       "Produits        535\n",
       "Alimentos       500\n",
       "Viandes         472\n",
       "Boissons        329\n",
       "Pflanzliche     299\n",
       "Plats           256\n",
       "Groceries       234\n",
       "Dairies         212\n",
       "Name: categories, dtype: int64"
      ]
     },
     "execution_count": 26,
     "metadata": {},
     "output_type": "execute_result"
    }
   ],
   "source": [
    "data['categories'].value_counts().head(11)"
   ]
  },
  {
   "cell_type": "code",
   "execution_count": 27,
   "metadata": {
    "id": "LGzkq-5Rd-Uy"
   },
   "outputs": [],
   "source": [
    "categories__values = data['categories'].values\n",
    "most_categories = ('Snacks' , 'Aliments',  'Plant-based' , 'Produits', 'Alimentos' ,'Viandes', 'Boissons', 'Pflanzliche','Plats', 'Groceries', 'Dairies')\n",
    "categories= {'Snacks':[] , 'Aliments':[],  'Plant-based':[] , 'Produits':[], 'Alimentos':[] ,'Viandes':[], 'Boissons':[], 'Pflanzliche':[],'Plats':[], 'Groceries':[], 'Dairies':[]} \n",
    "for i in categories__values : \n",
    "   for j in most_categories:\n",
    "       if j in str(i):\n",
    "         categories[j].append(1)\n",
    "       else : \n",
    "          categories[j].append(0)\n",
    "for i in most_categories:\n",
    "  data[i] = pd.DataFrame(categories[i])\n",
    "data.drop(['categories'], 1, inplace=True)\n",
    "data['Aliments'] = data['Aliments']+ data['Alimentos']\n",
    "aliments_values = data['Aliments'].values\n",
    "for i in range(len(aliments_values)):\n",
    "  if aliments_values[i]==2:\n",
    "        aliments_values[i] = 1\n",
    "data['Aliments'] = pd.DataFrame(aliments_values)\n",
    "data.drop(['Alimentos'], 1, inplace=True)"
   ]
  },
  {
   "cell_type": "code",
   "execution_count": 28,
   "metadata": {
    "id": "jEm8lfVvdP2y"
   },
   "outputs": [],
   "source": [
    "data.drop(['additives_tags','states'], 1, inplace=True)"
   ]
  },
  {
   "cell_type": "code",
   "execution_count": 29,
   "metadata": {
    "id": "djyt0LCDRVji"
   },
   "outputs": [],
   "source": [
    "data['nutriscore_grade'].fillna('None', inplace = True)"
   ]
  },
  {
   "cell_type": "code",
   "execution_count": 30,
   "metadata": {
    "id": "Oft5O3asKqPD"
   },
   "outputs": [],
   "source": [
    "def function_escalier(x):\n",
    "  if x >=0:\n",
    "      return(int(x+0.5))\n",
    "  else:\n",
    "    return int(x)"
   ]
  },
  {
   "cell_type": "code",
   "execution_count": 31,
   "metadata": {
    "id": "Dn2v_vvtkMez"
   },
   "outputs": [],
   "source": [
    "data['nutriscore_score'] = data['nutriscore_score'].astype(float)\n",
    "data_grouped = data.groupby('pnns_groups_2')['nutriscore_score'].mean()\n",
    "grades = list(data['pnns_groups_2'].unique())\n",
    "for grade in grades:\n",
    "  p = data['pnns_groups_2'] == grade\n",
    "  data.loc[p, 'nutriscore_score'] = data.loc[p, 'nutriscore_score'].fillna(function_escalier(data_grouped[grade]))"
   ]
  },
  {
   "cell_type": "code",
   "execution_count": 32,
   "metadata": {
    "id": "SktuL5wgWBf-"
   },
   "outputs": [],
   "source": [
    "dh = data.groupby(['pnns_groups_1'])['pnns_groups_2'].value_counts()"
   ]
  },
  {
   "cell_type": "code",
   "execution_count": 33,
   "metadata": {
    "id": "eEMP5GvKZJDm"
   },
   "outputs": [
    {
     "data": {
      "text/plain": [
       "[('Beverages', 'Sweetened beverages'),\n",
       " ('Beverages', 'Fruit juices'),\n",
       " ('Beverages', 'Artificially sweetened beverages'),\n",
       " ('Beverages', 'Plant-based milk substitutes'),\n",
       " ('Beverages', 'Waters and flavored waters'),\n",
       " ('Beverages', 'Unsweetened beverages'),\n",
       " ('Beverages', 'Fruit nectars'),\n",
       " ('Beverages', 'Teas and herbal teas and coffees'),\n",
       " ('Cereals and potatoes', 'Cereals'),\n",
       " ('Cereals and potatoes', 'Bread'),\n",
       " ('Cereals and potatoes', 'Breakfast cereals'),\n",
       " ('Cereals and potatoes', 'Legumes'),\n",
       " ('Cereals and potatoes', 'Potatoes'),\n",
       " ('Composite foods', 'One-dish meals'),\n",
       " ('Composite foods', 'Sandwiches'),\n",
       " ('Composite foods', 'Pizza pies and quiche'),\n",
       " ('Fat and sauces', 'Dressings and sauces'),\n",
       " ('Fat and sauces', 'Fats'),\n",
       " ('Fish Meat Eggs', 'Meat'),\n",
       " ('Fish Meat Eggs', 'Processed meat'),\n",
       " ('Fish Meat Eggs', 'Fish and seafood'),\n",
       " ('Fish Meat Eggs', 'Eggs'),\n",
       " ('Fish Meat Eggs', 'Offals'),\n",
       " ('Fruits and vegetables', 'Vegetables'),\n",
       " ('Fruits and vegetables', 'Fruits'),\n",
       " ('Fruits and vegetables', 'Dried fruits'),\n",
       " ('Fruits and vegetables', 'Soups'),\n",
       " ('Milk and dairy products', 'Cheese'),\n",
       " ('Milk and dairy products', 'Milk and yogurt'),\n",
       " ('Milk and dairy products', 'Ice cream'),\n",
       " ('Milk and dairy products', 'Dairy desserts'),\n",
       " ('Salty snacks', 'Appetizers'),\n",
       " ('Salty snacks', 'Salty and fatty products'),\n",
       " ('Salty snacks', 'Nuts'),\n",
       " ('Sugary snacks', 'Biscuits and cakes'),\n",
       " ('Sugary snacks', 'Sweets'),\n",
       " ('Sugary snacks', 'Chocolate products'),\n",
       " ('cereals-and-potatoes', 'cereals'),\n",
       " ('fruits-and-vegetables', 'vegetables'),\n",
       " ('fruits-and-vegetables', 'fruits'),\n",
       " ('sugary-snacks', 'pastries'),\n",
       " ('unknown', 'unknown')]"
      ]
     },
     "execution_count": 33,
     "metadata": {},
     "output_type": "execute_result"
    }
   ],
   "source": [
    "dh = list(dict(dh))\n",
    "dh"
   ]
  },
  {
   "cell_type": "code",
   "execution_count": 34,
   "metadata": {
    "id": "wWZSeiKYbGjn"
   },
   "outputs": [
    {
     "data": {
      "text/plain": [
       "array(['Alcoholic beverages', 'Pizza pies and quiches'], dtype=object)"
      ]
     },
     "execution_count": 34,
     "metadata": {},
     "output_type": "execute_result"
    }
   ],
   "source": [
    "data['pnns_groups_1'].fillna('To Replace', inplace = True)\n",
    "d = data[data['pnns_groups_1'] =='To Replace']['pnns_groups_2']\n",
    "d.unique()"
   ]
  },
  {
   "cell_type": "code",
   "execution_count": 35,
   "metadata": {
    "id": "rIgvOHpgthyj"
   },
   "outputs": [],
   "source": [
    "new_data = data[['pnns_groups_1','pnns_groups_2']].values\n",
    "a_list1 = []\n",
    "a_list2 = []\n",
    "for i in range(len(new_data)):\n",
    "     if new_data[i][1]=='Alcoholic beverages':\n",
    "        new_data[i][0] ='Beverages'\n",
    "     if new_data[i][1]=='Pizza pies and quiches':\n",
    "        new_data[i][0] ='Composite foods'\n",
    "df= pd.DataFrame(new_data, columns = ['pnns_groups_1','pnns_groups_2'])\n",
    "data['pnns_groups_1'] = df['pnns_groups_1'] \n",
    "data['pnns_groups_2'] = df['pnns_groups_2'] "
   ]
  },
  {
   "cell_type": "code",
   "execution_count": 36,
   "metadata": {
    "id": "aNZly8eNpRP2"
   },
   "outputs": [],
   "source": [
    "lists= ['energy-kcal_100g','fat_100g', 'saturated-fat_100g','carbohydrates_100g','sugars_100g','fiber_100g','proteins_100g','sodium_100g']\n",
    "for feature in lists:\n",
    "    data[feature] = data[feature].astype(float)\n",
    "    data_grouped = data.groupby('pnns_groups_2')[feature].mean()\n",
    "    list_feature = list(data['pnns_groups_2'].unique())\n",
    "    for value_f in list_feature:\n",
    "         p = data['pnns_groups_2'] == value_f\n",
    "         data.loc[p, feature] = data.loc[p, feature].fillna(data_grouped[value_f])"
   ]
  },
  {
   "cell_type": "code",
   "execution_count": 37,
   "metadata": {
    "id": "E9dfMu8PSh3f"
   },
   "outputs": [],
   "source": [
    "data['nova_group'].fillna(0, inplace = True)"
   ]
  },
  {
   "cell_type": "code",
   "execution_count": 38,
   "metadata": {
    "id": "7njCzbItxueU"
   },
   "outputs": [],
   "source": [
    "data['fat_100g'] = data['fat_100g'].astype(float)\n",
    "data_grouped = data.groupby('pnns_groups_2')['fat_100g'].mean()\n",
    "grades = list(data['pnns_groups_2'].unique())\n",
    "for grade in grades:\n",
    "  p = data['pnns_groups_2'] == grade\n",
    "  data.loc[p, 'fat_100g'] = data.loc[p, 'fat_100g'].fillna(function_escalier(data_grouped[grade]))"
   ]
  },
  {
   "cell_type": "code",
   "execution_count": 39,
   "metadata": {
    "id": "4UooUkZNOnfH"
   },
   "outputs": [],
   "source": [
    "df =pd.get_dummies(data['nutriscore_grade'], drop_first=True)\n",
    "for i in df.columns : \n",
    "         data['nutriscore_grade_'+i] = df[i]"
   ]
  },
  {
   "cell_type": "code",
   "execution_count": 40,
   "metadata": {
    "id": "3mu3wCltb5Jm"
   },
   "outputs": [
    {
     "data": {
      "text/html": [
       "<div>\n",
       "<style scoped>\n",
       "    .dataframe tbody tr th:only-of-type {\n",
       "        vertical-align: middle;\n",
       "    }\n",
       "\n",
       "    .dataframe tbody tr th {\n",
       "        vertical-align: top;\n",
       "    }\n",
       "\n",
       "    .dataframe thead th {\n",
       "        text-align: right;\n",
       "    }\n",
       "</style>\n",
       "<table border=\"1\" class=\"dataframe\">\n",
       "  <thead>\n",
       "    <tr style=\"text-align: right;\">\n",
       "      <th></th>\n",
       "      <th>nutriscore_score</th>\n",
       "      <th>nutriscore_grade</th>\n",
       "      <th>nova_group</th>\n",
       "      <th>pnns_groups_1</th>\n",
       "      <th>pnns_groups_2</th>\n",
       "      <th>energy-kcal_100g</th>\n",
       "      <th>fat_100g</th>\n",
       "      <th>saturated-fat_100g</th>\n",
       "      <th>carbohydrates_100g</th>\n",
       "      <th>sugars_100g</th>\n",
       "      <th>...</th>\n",
       "      <th>Boissons</th>\n",
       "      <th>Pflanzliche</th>\n",
       "      <th>Plats</th>\n",
       "      <th>Groceries</th>\n",
       "      <th>Dairies</th>\n",
       "      <th>nutriscore_grade_a</th>\n",
       "      <th>nutriscore_grade_b</th>\n",
       "      <th>nutriscore_grade_c</th>\n",
       "      <th>nutriscore_grade_d</th>\n",
       "      <th>nutriscore_grade_e</th>\n",
       "    </tr>\n",
       "  </thead>\n",
       "  <tbody>\n",
       "    <tr>\n",
       "      <th>0</th>\n",
       "      <td>9.0</td>\n",
       "      <td>None</td>\n",
       "      <td>4.0</td>\n",
       "      <td>unknown</td>\n",
       "      <td>unknown</td>\n",
       "      <td>0.000000</td>\n",
       "      <td>0.0</td>\n",
       "      <td>0.000000</td>\n",
       "      <td>0.0</td>\n",
       "      <td>0.0</td>\n",
       "      <td>...</td>\n",
       "      <td>0</td>\n",
       "      <td>0</td>\n",
       "      <td>0</td>\n",
       "      <td>0</td>\n",
       "      <td>0</td>\n",
       "      <td>0</td>\n",
       "      <td>0</td>\n",
       "      <td>0</td>\n",
       "      <td>0</td>\n",
       "      <td>0</td>\n",
       "    </tr>\n",
       "    <tr>\n",
       "      <th>1</th>\n",
       "      <td>6.0</td>\n",
       "      <td>c</td>\n",
       "      <td>4.0</td>\n",
       "      <td>Fruits and vegetables</td>\n",
       "      <td>Vegetables</td>\n",
       "      <td>290.000000</td>\n",
       "      <td>12.0</td>\n",
       "      <td>7.000000</td>\n",
       "      <td>23.0</td>\n",
       "      <td>0.0</td>\n",
       "      <td>...</td>\n",
       "      <td>0</td>\n",
       "      <td>0</td>\n",
       "      <td>0</td>\n",
       "      <td>0</td>\n",
       "      <td>0</td>\n",
       "      <td>0</td>\n",
       "      <td>0</td>\n",
       "      <td>1</td>\n",
       "      <td>0</td>\n",
       "      <td>0</td>\n",
       "    </tr>\n",
       "    <tr>\n",
       "      <th>2</th>\n",
       "      <td>18.0</td>\n",
       "      <td>None</td>\n",
       "      <td>4.0</td>\n",
       "      <td>Sugary snacks</td>\n",
       "      <td>Biscuits and cakes</td>\n",
       "      <td>363.000000</td>\n",
       "      <td>14.4</td>\n",
       "      <td>9.155663</td>\n",
       "      <td>54.1</td>\n",
       "      <td>28.1</td>\n",
       "      <td>...</td>\n",
       "      <td>0</td>\n",
       "      <td>0</td>\n",
       "      <td>0</td>\n",
       "      <td>0</td>\n",
       "      <td>0</td>\n",
       "      <td>0</td>\n",
       "      <td>0</td>\n",
       "      <td>0</td>\n",
       "      <td>0</td>\n",
       "      <td>0</td>\n",
       "    </tr>\n",
       "    <tr>\n",
       "      <th>3</th>\n",
       "      <td>2.0</td>\n",
       "      <td>b</td>\n",
       "      <td>4.0</td>\n",
       "      <td>Milk and dairy products</td>\n",
       "      <td>Dairy desserts</td>\n",
       "      <td>169.272414</td>\n",
       "      <td>15.3</td>\n",
       "      <td>11.200000</td>\n",
       "      <td>75.5</td>\n",
       "      <td>69.8</td>\n",
       "      <td>...</td>\n",
       "      <td>0</td>\n",
       "      <td>0</td>\n",
       "      <td>0</td>\n",
       "      <td>0</td>\n",
       "      <td>0</td>\n",
       "      <td>0</td>\n",
       "      <td>1</td>\n",
       "      <td>0</td>\n",
       "      <td>0</td>\n",
       "      <td>0</td>\n",
       "    </tr>\n",
       "    <tr>\n",
       "      <th>4</th>\n",
       "      <td>9.0</td>\n",
       "      <td>c</td>\n",
       "      <td>4.0</td>\n",
       "      <td>sugary-snacks</td>\n",
       "      <td>pastries</td>\n",
       "      <td>260.000000</td>\n",
       "      <td>10.7</td>\n",
       "      <td>2.000000</td>\n",
       "      <td>38.7</td>\n",
       "      <td>24.7</td>\n",
       "      <td>...</td>\n",
       "      <td>0</td>\n",
       "      <td>0</td>\n",
       "      <td>0</td>\n",
       "      <td>0</td>\n",
       "      <td>0</td>\n",
       "      <td>0</td>\n",
       "      <td>0</td>\n",
       "      <td>1</td>\n",
       "      <td>0</td>\n",
       "      <td>0</td>\n",
       "    </tr>\n",
       "  </tbody>\n",
       "</table>\n",
       "<p>5 rows × 49 columns</p>\n",
       "</div>"
      ],
      "text/plain": [
       "   nutriscore_score nutriscore_grade  nova_group            pnns_groups_1  \\\n",
       "0               9.0             None         4.0                  unknown   \n",
       "1               6.0                c         4.0    Fruits and vegetables   \n",
       "2              18.0             None         4.0            Sugary snacks   \n",
       "3               2.0                b         4.0  Milk and dairy products   \n",
       "4               9.0                c         4.0            sugary-snacks   \n",
       "\n",
       "        pnns_groups_2  energy-kcal_100g  fat_100g  saturated-fat_100g  \\\n",
       "0             unknown          0.000000       0.0            0.000000   \n",
       "1          Vegetables        290.000000      12.0            7.000000   \n",
       "2  Biscuits and cakes        363.000000      14.4            9.155663   \n",
       "3      Dairy desserts        169.272414      15.3           11.200000   \n",
       "4            pastries        260.000000      10.7            2.000000   \n",
       "\n",
       "   carbohydrates_100g  sugars_100g  ...  Boissons  Pflanzliche  Plats  \\\n",
       "0                 0.0          0.0  ...         0            0      0   \n",
       "1                23.0          0.0  ...         0            0      0   \n",
       "2                54.1         28.1  ...         0            0      0   \n",
       "3                75.5         69.8  ...         0            0      0   \n",
       "4                38.7         24.7  ...         0            0      0   \n",
       "\n",
       "   Groceries  Dairies  nutriscore_grade_a  nutriscore_grade_b  \\\n",
       "0          0        0                   0                   0   \n",
       "1          0        0                   0                   0   \n",
       "2          0        0                   0                   0   \n",
       "3          0        0                   0                   1   \n",
       "4          0        0                   0                   0   \n",
       "\n",
       "   nutriscore_grade_c  nutriscore_grade_d  nutriscore_grade_e  \n",
       "0                   0                   0                   0  \n",
       "1                   1                   0                   0  \n",
       "2                   0                   0                   0  \n",
       "3                   0                   0                   0  \n",
       "4                   1                   0                   0  \n",
       "\n",
       "[5 rows x 49 columns]"
      ]
     },
     "execution_count": 40,
     "metadata": {},
     "output_type": "execute_result"
    }
   ],
   "source": [
    "data.head()"
   ]
  },
  {
   "cell_type": "code",
   "execution_count": 41,
   "metadata": {
    "id": "UvrwM7Xzb5D8"
   },
   "outputs": [
    {
     "data": {
      "text/plain": [
       "nutriscore_score      0\n",
       "nutriscore_grade      0\n",
       "nova_group            0\n",
       "pnns_groups_1         0\n",
       "pnns_groups_2         0\n",
       "energy-kcal_100g      0\n",
       "fat_100g              0\n",
       "saturated-fat_100g    0\n",
       "carbohydrates_100g    0\n",
       "sugars_100g           0\n",
       "fiber_100g            0\n",
       "proteins_100g         0\n",
       "sodium_100g           0\n",
       "en:france             0\n",
       "en:germany            0\n",
       "en:spain              0\n",
       "en:mexico             0\n",
       "en:united-kingdom     0\n",
       "en:canada             0\n",
       "en:united-states      0\n",
       "en:belgium            0\n",
       "en:switzerland        0\n",
       "en:poland             0\n",
       "Organic               0\n",
       "Pain                  0\n",
       "Chocolate             0\n",
       "Filet                 0\n",
       "Sauce                 0\n",
       "Salade                0\n",
       "Crème                 0\n",
       "Jambon                0\n",
       "Original              0\n",
       "Bio                   0\n",
       "Jus                   0\n",
       "Snacks                0\n",
       "Aliments              0\n",
       "Plant-based           0\n",
       "Produits              0\n",
       "Viandes               0\n",
       "Boissons              0\n",
       "Pflanzliche           0\n",
       "Plats                 0\n",
       "Groceries             0\n",
       "Dairies               0\n",
       "nutriscore_grade_a    0\n",
       "nutriscore_grade_b    0\n",
       "nutriscore_grade_c    0\n",
       "nutriscore_grade_d    0\n",
       "nutriscore_grade_e    0\n",
       "dtype: int64"
      ]
     },
     "execution_count": 41,
     "metadata": {},
     "output_type": "execute_result"
    }
   ],
   "source": [
    "data.isnull().sum()"
   ]
  },
  {
   "cell_type": "code",
   "execution_count": 42,
   "metadata": {
    "id": "syqGOcGbtDEq"
   },
   "outputs": [
    {
     "data": {
      "text/plain": [
       "array(['unknown', 'Vegetables', 'Biscuits and cakes', 'Dairy desserts',\n",
       "       'pastries', 'Sweetened beverages', 'Pizza pies and quiche',\n",
       "       'Fruits', 'Sweets', 'Alcoholic beverages', 'Dressings and sauces',\n",
       "       'Cereals', 'Processed meat', 'Bread', 'One-dish meals',\n",
       "       'Salty and fatty products', 'Sandwiches', 'Legumes',\n",
       "       'Unsweetened beverages', 'Cheese', 'vegetables', 'Dried fruits',\n",
       "       'Fish and seafood', 'Appetizers', 'Fruit juices', 'Soups', 'Meat',\n",
       "       'Milk and yogurt', 'Fats', 'Chocolate products',\n",
       "       'Plant-based milk substitutes', 'Offals', 'Nuts',\n",
       "       'Waters and flavored waters', 'Eggs',\n",
       "       'Artificially sweetened beverages', 'Breakfast cereals',\n",
       "       'Teas and herbal teas and coffees', 'Ice cream', 'fruits',\n",
       "       'Potatoes', 'Fruit nectars', 'Pizza pies and quiches', 'cereals'],\n",
       "      dtype=object)"
      ]
     },
     "execution_count": 42,
     "metadata": {},
     "output_type": "execute_result"
    }
   ],
   "source": [
    "data['pnns_groups_2'].unique()"
   ]
  },
  {
   "cell_type": "code",
   "execution_count": 43,
   "metadata": {
    "id": "9zhpv6WKwWRu"
   },
   "outputs": [],
   "source": [
    "df =pd.get_dummies(data[['pnns_groups_2']], drop_first=True)\n",
    "for i in df.columns : \n",
    "         data[i] = df[i]\n",
    "data.drop(['pnns_groups_2'], 1, inplace=True)"
   ]
  },
  {
   "cell_type": "code",
   "execution_count": 44,
   "metadata": {
    "id": "DCyUrxNNwWWh"
   },
   "outputs": [],
   "source": [
    "df =pd.get_dummies(data[['pnns_groups_1']], drop_first=True)\n",
    "for i in df.columns : \n",
    "         data[i] = df[i]\n",
    "data.drop(['pnns_groups_1'], 1, inplace=True)"
   ]
  },
  {
   "cell_type": "code",
   "execution_count": 45,
   "metadata": {
    "id": "PvUzhBNonhWp"
   },
   "outputs": [],
   "source": [
    "data['nutriscore_score'] = data['nutriscore_score'].astype(int)\n"
   ]
  },
  {
   "cell_type": "code",
   "execution_count": 46,
   "metadata": {
    "id": "7bltxVA5Tqok"
   },
   "outputs": [],
   "source": [
    "data.drop(['nutriscore_grade'], 1, inplace=True)"
   ]
  },
  {
   "cell_type": "code",
   "execution_count": 47,
   "metadata": {
    "id": "XcKum8QIwWVO"
   },
   "outputs": [
    {
     "data": {
      "text/html": [
       "<div>\n",
       "<style scoped>\n",
       "    .dataframe tbody tr th:only-of-type {\n",
       "        vertical-align: middle;\n",
       "    }\n",
       "\n",
       "    .dataframe tbody tr th {\n",
       "        vertical-align: top;\n",
       "    }\n",
       "\n",
       "    .dataframe thead th {\n",
       "        text-align: right;\n",
       "    }\n",
       "</style>\n",
       "<table border=\"1\" class=\"dataframe\">\n",
       "  <thead>\n",
       "    <tr style=\"text-align: right;\">\n",
       "      <th></th>\n",
       "      <th>nutriscore_score</th>\n",
       "      <th>nova_group</th>\n",
       "      <th>energy-kcal_100g</th>\n",
       "      <th>fat_100g</th>\n",
       "      <th>saturated-fat_100g</th>\n",
       "      <th>carbohydrates_100g</th>\n",
       "      <th>sugars_100g</th>\n",
       "      <th>fiber_100g</th>\n",
       "      <th>proteins_100g</th>\n",
       "      <th>sodium_100g</th>\n",
       "      <th>...</th>\n",
       "      <th>pnns_groups_1_Fat and sauces</th>\n",
       "      <th>pnns_groups_1_Fish Meat Eggs</th>\n",
       "      <th>pnns_groups_1_Fruits and vegetables</th>\n",
       "      <th>pnns_groups_1_Milk and dairy products</th>\n",
       "      <th>pnns_groups_1_Salty snacks</th>\n",
       "      <th>pnns_groups_1_Sugary snacks</th>\n",
       "      <th>pnns_groups_1_cereals-and-potatoes</th>\n",
       "      <th>pnns_groups_1_fruits-and-vegetables</th>\n",
       "      <th>pnns_groups_1_sugary-snacks</th>\n",
       "      <th>pnns_groups_1_unknown</th>\n",
       "    </tr>\n",
       "  </thead>\n",
       "  <tbody>\n",
       "    <tr>\n",
       "      <th>0</th>\n",
       "      <td>9</td>\n",
       "      <td>4.0</td>\n",
       "      <td>0.000000</td>\n",
       "      <td>0.000000</td>\n",
       "      <td>0.000000</td>\n",
       "      <td>0.000000</td>\n",
       "      <td>0.000000</td>\n",
       "      <td>3.642324</td>\n",
       "      <td>0.000000</td>\n",
       "      <td>2.077011</td>\n",
       "      <td>...</td>\n",
       "      <td>0</td>\n",
       "      <td>0</td>\n",
       "      <td>0</td>\n",
       "      <td>0</td>\n",
       "      <td>0</td>\n",
       "      <td>0</td>\n",
       "      <td>0</td>\n",
       "      <td>0</td>\n",
       "      <td>0</td>\n",
       "      <td>1</td>\n",
       "    </tr>\n",
       "    <tr>\n",
       "      <th>1</th>\n",
       "      <td>6</td>\n",
       "      <td>4.0</td>\n",
       "      <td>290.000000</td>\n",
       "      <td>12.000000</td>\n",
       "      <td>7.000000</td>\n",
       "      <td>23.000000</td>\n",
       "      <td>0.000000</td>\n",
       "      <td>2.000000</td>\n",
       "      <td>22.000000</td>\n",
       "      <td>0.864000</td>\n",
       "      <td>...</td>\n",
       "      <td>0</td>\n",
       "      <td>0</td>\n",
       "      <td>1</td>\n",
       "      <td>0</td>\n",
       "      <td>0</td>\n",
       "      <td>0</td>\n",
       "      <td>0</td>\n",
       "      <td>0</td>\n",
       "      <td>0</td>\n",
       "      <td>0</td>\n",
       "    </tr>\n",
       "    <tr>\n",
       "      <th>2</th>\n",
       "      <td>18</td>\n",
       "      <td>4.0</td>\n",
       "      <td>363.000000</td>\n",
       "      <td>14.400000</td>\n",
       "      <td>9.155663</td>\n",
       "      <td>54.100000</td>\n",
       "      <td>28.100000</td>\n",
       "      <td>2.050000</td>\n",
       "      <td>4.790000</td>\n",
       "      <td>0.369000</td>\n",
       "      <td>...</td>\n",
       "      <td>0</td>\n",
       "      <td>0</td>\n",
       "      <td>0</td>\n",
       "      <td>0</td>\n",
       "      <td>0</td>\n",
       "      <td>1</td>\n",
       "      <td>0</td>\n",
       "      <td>0</td>\n",
       "      <td>0</td>\n",
       "      <td>0</td>\n",
       "    </tr>\n",
       "    <tr>\n",
       "      <th>3</th>\n",
       "      <td>2</td>\n",
       "      <td>4.0</td>\n",
       "      <td>169.272414</td>\n",
       "      <td>15.300000</td>\n",
       "      <td>11.200000</td>\n",
       "      <td>75.500000</td>\n",
       "      <td>69.800000</td>\n",
       "      <td>0.100000</td>\n",
       "      <td>6.800000</td>\n",
       "      <td>0.200000</td>\n",
       "      <td>...</td>\n",
       "      <td>0</td>\n",
       "      <td>0</td>\n",
       "      <td>0</td>\n",
       "      <td>1</td>\n",
       "      <td>0</td>\n",
       "      <td>0</td>\n",
       "      <td>0</td>\n",
       "      <td>0</td>\n",
       "      <td>0</td>\n",
       "      <td>0</td>\n",
       "    </tr>\n",
       "    <tr>\n",
       "      <th>4</th>\n",
       "      <td>9</td>\n",
       "      <td>4.0</td>\n",
       "      <td>260.000000</td>\n",
       "      <td>10.700000</td>\n",
       "      <td>2.000000</td>\n",
       "      <td>38.700000</td>\n",
       "      <td>24.700000</td>\n",
       "      <td>2.000000</td>\n",
       "      <td>3.330000</td>\n",
       "      <td>0.259000</td>\n",
       "      <td>...</td>\n",
       "      <td>0</td>\n",
       "      <td>0</td>\n",
       "      <td>0</td>\n",
       "      <td>0</td>\n",
       "      <td>0</td>\n",
       "      <td>0</td>\n",
       "      <td>0</td>\n",
       "      <td>0</td>\n",
       "      <td>1</td>\n",
       "      <td>0</td>\n",
       "    </tr>\n",
       "    <tr>\n",
       "      <th>5</th>\n",
       "      <td>2</td>\n",
       "      <td>3.0</td>\n",
       "      <td>278.000000</td>\n",
       "      <td>1.110000</td>\n",
       "      <td>0.333000</td>\n",
       "      <td>53.300000</td>\n",
       "      <td>1.110000</td>\n",
       "      <td>2.220000</td>\n",
       "      <td>10.000000</td>\n",
       "      <td>0.610000</td>\n",
       "      <td>...</td>\n",
       "      <td>0</td>\n",
       "      <td>0</td>\n",
       "      <td>0</td>\n",
       "      <td>0</td>\n",
       "      <td>0</td>\n",
       "      <td>0</td>\n",
       "      <td>0</td>\n",
       "      <td>0</td>\n",
       "      <td>0</td>\n",
       "      <td>1</td>\n",
       "    </tr>\n",
       "    <tr>\n",
       "      <th>6</th>\n",
       "      <td>12</td>\n",
       "      <td>4.0</td>\n",
       "      <td>51.000000</td>\n",
       "      <td>0.000000</td>\n",
       "      <td>0.000000</td>\n",
       "      <td>14.000000</td>\n",
       "      <td>0.000000</td>\n",
       "      <td>0.000000</td>\n",
       "      <td>0.000000</td>\n",
       "      <td>0.400000</td>\n",
       "      <td>...</td>\n",
       "      <td>0</td>\n",
       "      <td>0</td>\n",
       "      <td>0</td>\n",
       "      <td>0</td>\n",
       "      <td>0</td>\n",
       "      <td>0</td>\n",
       "      <td>0</td>\n",
       "      <td>0</td>\n",
       "      <td>0</td>\n",
       "      <td>0</td>\n",
       "    </tr>\n",
       "    <tr>\n",
       "      <th>7</th>\n",
       "      <td>18</td>\n",
       "      <td>4.0</td>\n",
       "      <td>433.310800</td>\n",
       "      <td>19.446346</td>\n",
       "      <td>9.155663</td>\n",
       "      <td>57.331311</td>\n",
       "      <td>28.653719</td>\n",
       "      <td>3.344314</td>\n",
       "      <td>6.710910</td>\n",
       "      <td>0.752540</td>\n",
       "      <td>...</td>\n",
       "      <td>0</td>\n",
       "      <td>0</td>\n",
       "      <td>0</td>\n",
       "      <td>0</td>\n",
       "      <td>0</td>\n",
       "      <td>1</td>\n",
       "      <td>0</td>\n",
       "      <td>0</td>\n",
       "      <td>0</td>\n",
       "      <td>0</td>\n",
       "    </tr>\n",
       "    <tr>\n",
       "      <th>8</th>\n",
       "      <td>2</td>\n",
       "      <td>4.0</td>\n",
       "      <td>114.000000</td>\n",
       "      <td>6.790000</td>\n",
       "      <td>2.860000</td>\n",
       "      <td>7.860000</td>\n",
       "      <td>0.714000</td>\n",
       "      <td>0.357000</td>\n",
       "      <td>5.360000</td>\n",
       "      <td>0.200000</td>\n",
       "      <td>...</td>\n",
       "      <td>0</td>\n",
       "      <td>0</td>\n",
       "      <td>0</td>\n",
       "      <td>0</td>\n",
       "      <td>0</td>\n",
       "      <td>0</td>\n",
       "      <td>0</td>\n",
       "      <td>0</td>\n",
       "      <td>0</td>\n",
       "      <td>0</td>\n",
       "    </tr>\n",
       "    <tr>\n",
       "      <th>9</th>\n",
       "      <td>1</td>\n",
       "      <td>4.0</td>\n",
       "      <td>377.000000</td>\n",
       "      <td>0.500000</td>\n",
       "      <td>0.100000</td>\n",
       "      <td>93.000000</td>\n",
       "      <td>66.000000</td>\n",
       "      <td>1.575918</td>\n",
       "      <td>1.500000</td>\n",
       "      <td>0.008000</td>\n",
       "      <td>...</td>\n",
       "      <td>0</td>\n",
       "      <td>0</td>\n",
       "      <td>1</td>\n",
       "      <td>0</td>\n",
       "      <td>0</td>\n",
       "      <td>0</td>\n",
       "      <td>0</td>\n",
       "      <td>0</td>\n",
       "      <td>0</td>\n",
       "      <td>0</td>\n",
       "    </tr>\n",
       "    <tr>\n",
       "      <th>10</th>\n",
       "      <td>14</td>\n",
       "      <td>4.0</td>\n",
       "      <td>400.000000</td>\n",
       "      <td>0.000000</td>\n",
       "      <td>0.000000</td>\n",
       "      <td>93.300000</td>\n",
       "      <td>93.300000</td>\n",
       "      <td>2.283940</td>\n",
       "      <td>0.000000</td>\n",
       "      <td>0.000000</td>\n",
       "      <td>...</td>\n",
       "      <td>0</td>\n",
       "      <td>0</td>\n",
       "      <td>0</td>\n",
       "      <td>0</td>\n",
       "      <td>0</td>\n",
       "      <td>1</td>\n",
       "      <td>0</td>\n",
       "      <td>0</td>\n",
       "      <td>0</td>\n",
       "      <td>0</td>\n",
       "    </tr>\n",
       "    <tr>\n",
       "      <th>11</th>\n",
       "      <td>9</td>\n",
       "      <td>4.0</td>\n",
       "      <td>269.731412</td>\n",
       "      <td>10.859381</td>\n",
       "      <td>3.891625</td>\n",
       "      <td>31.409468</td>\n",
       "      <td>15.154326</td>\n",
       "      <td>3.642324</td>\n",
       "      <td>8.753042</td>\n",
       "      <td>2.077011</td>\n",
       "      <td>...</td>\n",
       "      <td>0</td>\n",
       "      <td>0</td>\n",
       "      <td>0</td>\n",
       "      <td>0</td>\n",
       "      <td>0</td>\n",
       "      <td>0</td>\n",
       "      <td>0</td>\n",
       "      <td>0</td>\n",
       "      <td>0</td>\n",
       "      <td>1</td>\n",
       "    </tr>\n",
       "    <tr>\n",
       "      <th>12</th>\n",
       "      <td>9</td>\n",
       "      <td>4.0</td>\n",
       "      <td>269.731412</td>\n",
       "      <td>10.859381</td>\n",
       "      <td>3.891625</td>\n",
       "      <td>31.409468</td>\n",
       "      <td>15.154326</td>\n",
       "      <td>3.642324</td>\n",
       "      <td>8.753042</td>\n",
       "      <td>2.077011</td>\n",
       "      <td>...</td>\n",
       "      <td>0</td>\n",
       "      <td>0</td>\n",
       "      <td>0</td>\n",
       "      <td>0</td>\n",
       "      <td>0</td>\n",
       "      <td>0</td>\n",
       "      <td>0</td>\n",
       "      <td>0</td>\n",
       "      <td>0</td>\n",
       "      <td>1</td>\n",
       "    </tr>\n",
       "    <tr>\n",
       "      <th>13</th>\n",
       "      <td>18</td>\n",
       "      <td>4.0</td>\n",
       "      <td>411.000000</td>\n",
       "      <td>6.420000</td>\n",
       "      <td>3.530000</td>\n",
       "      <td>87.860000</td>\n",
       "      <td>81.670000</td>\n",
       "      <td>0.000000</td>\n",
       "      <td>0.030000</td>\n",
       "      <td>0.040000</td>\n",
       "      <td>...</td>\n",
       "      <td>0</td>\n",
       "      <td>0</td>\n",
       "      <td>0</td>\n",
       "      <td>0</td>\n",
       "      <td>0</td>\n",
       "      <td>1</td>\n",
       "      <td>0</td>\n",
       "      <td>0</td>\n",
       "      <td>0</td>\n",
       "      <td>0</td>\n",
       "    </tr>\n",
       "    <tr>\n",
       "      <th>14</th>\n",
       "      <td>9</td>\n",
       "      <td>0.0</td>\n",
       "      <td>269.731412</td>\n",
       "      <td>10.859381</td>\n",
       "      <td>3.891625</td>\n",
       "      <td>31.409468</td>\n",
       "      <td>15.154326</td>\n",
       "      <td>3.642324</td>\n",
       "      <td>8.753042</td>\n",
       "      <td>2.077011</td>\n",
       "      <td>...</td>\n",
       "      <td>0</td>\n",
       "      <td>0</td>\n",
       "      <td>0</td>\n",
       "      <td>0</td>\n",
       "      <td>0</td>\n",
       "      <td>0</td>\n",
       "      <td>0</td>\n",
       "      <td>0</td>\n",
       "      <td>0</td>\n",
       "      <td>1</td>\n",
       "    </tr>\n",
       "  </tbody>\n",
       "</table>\n",
       "<p>15 rows × 101 columns</p>\n",
       "</div>"
      ],
      "text/plain": [
       "    nutriscore_score  nova_group  energy-kcal_100g   fat_100g  \\\n",
       "0                  9         4.0          0.000000   0.000000   \n",
       "1                  6         4.0        290.000000  12.000000   \n",
       "2                 18         4.0        363.000000  14.400000   \n",
       "3                  2         4.0        169.272414  15.300000   \n",
       "4                  9         4.0        260.000000  10.700000   \n",
       "5                  2         3.0        278.000000   1.110000   \n",
       "6                 12         4.0         51.000000   0.000000   \n",
       "7                 18         4.0        433.310800  19.446346   \n",
       "8                  2         4.0        114.000000   6.790000   \n",
       "9                  1         4.0        377.000000   0.500000   \n",
       "10                14         4.0        400.000000   0.000000   \n",
       "11                 9         4.0        269.731412  10.859381   \n",
       "12                 9         4.0        269.731412  10.859381   \n",
       "13                18         4.0        411.000000   6.420000   \n",
       "14                 9         0.0        269.731412  10.859381   \n",
       "\n",
       "    saturated-fat_100g  carbohydrates_100g  sugars_100g  fiber_100g  \\\n",
       "0             0.000000            0.000000     0.000000    3.642324   \n",
       "1             7.000000           23.000000     0.000000    2.000000   \n",
       "2             9.155663           54.100000    28.100000    2.050000   \n",
       "3            11.200000           75.500000    69.800000    0.100000   \n",
       "4             2.000000           38.700000    24.700000    2.000000   \n",
       "5             0.333000           53.300000     1.110000    2.220000   \n",
       "6             0.000000           14.000000     0.000000    0.000000   \n",
       "7             9.155663           57.331311    28.653719    3.344314   \n",
       "8             2.860000            7.860000     0.714000    0.357000   \n",
       "9             0.100000           93.000000    66.000000    1.575918   \n",
       "10            0.000000           93.300000    93.300000    2.283940   \n",
       "11            3.891625           31.409468    15.154326    3.642324   \n",
       "12            3.891625           31.409468    15.154326    3.642324   \n",
       "13            3.530000           87.860000    81.670000    0.000000   \n",
       "14            3.891625           31.409468    15.154326    3.642324   \n",
       "\n",
       "    proteins_100g  sodium_100g  ...  pnns_groups_1_Fat and sauces  \\\n",
       "0        0.000000     2.077011  ...                             0   \n",
       "1       22.000000     0.864000  ...                             0   \n",
       "2        4.790000     0.369000  ...                             0   \n",
       "3        6.800000     0.200000  ...                             0   \n",
       "4        3.330000     0.259000  ...                             0   \n",
       "5       10.000000     0.610000  ...                             0   \n",
       "6        0.000000     0.400000  ...                             0   \n",
       "7        6.710910     0.752540  ...                             0   \n",
       "8        5.360000     0.200000  ...                             0   \n",
       "9        1.500000     0.008000  ...                             0   \n",
       "10       0.000000     0.000000  ...                             0   \n",
       "11       8.753042     2.077011  ...                             0   \n",
       "12       8.753042     2.077011  ...                             0   \n",
       "13       0.030000     0.040000  ...                             0   \n",
       "14       8.753042     2.077011  ...                             0   \n",
       "\n",
       "    pnns_groups_1_Fish Meat Eggs  pnns_groups_1_Fruits and vegetables  \\\n",
       "0                              0                                    0   \n",
       "1                              0                                    1   \n",
       "2                              0                                    0   \n",
       "3                              0                                    0   \n",
       "4                              0                                    0   \n",
       "5                              0                                    0   \n",
       "6                              0                                    0   \n",
       "7                              0                                    0   \n",
       "8                              0                                    0   \n",
       "9                              0                                    1   \n",
       "10                             0                                    0   \n",
       "11                             0                                    0   \n",
       "12                             0                                    0   \n",
       "13                             0                                    0   \n",
       "14                             0                                    0   \n",
       "\n",
       "    pnns_groups_1_Milk and dairy products  pnns_groups_1_Salty snacks  \\\n",
       "0                                       0                           0   \n",
       "1                                       0                           0   \n",
       "2                                       0                           0   \n",
       "3                                       1                           0   \n",
       "4                                       0                           0   \n",
       "5                                       0                           0   \n",
       "6                                       0                           0   \n",
       "7                                       0                           0   \n",
       "8                                       0                           0   \n",
       "9                                       0                           0   \n",
       "10                                      0                           0   \n",
       "11                                      0                           0   \n",
       "12                                      0                           0   \n",
       "13                                      0                           0   \n",
       "14                                      0                           0   \n",
       "\n",
       "    pnns_groups_1_Sugary snacks  pnns_groups_1_cereals-and-potatoes  \\\n",
       "0                             0                                   0   \n",
       "1                             0                                   0   \n",
       "2                             1                                   0   \n",
       "3                             0                                   0   \n",
       "4                             0                                   0   \n",
       "5                             0                                   0   \n",
       "6                             0                                   0   \n",
       "7                             1                                   0   \n",
       "8                             0                                   0   \n",
       "9                             0                                   0   \n",
       "10                            1                                   0   \n",
       "11                            0                                   0   \n",
       "12                            0                                   0   \n",
       "13                            1                                   0   \n",
       "14                            0                                   0   \n",
       "\n",
       "    pnns_groups_1_fruits-and-vegetables  pnns_groups_1_sugary-snacks  \\\n",
       "0                                     0                            0   \n",
       "1                                     0                            0   \n",
       "2                                     0                            0   \n",
       "3                                     0                            0   \n",
       "4                                     0                            1   \n",
       "5                                     0                            0   \n",
       "6                                     0                            0   \n",
       "7                                     0                            0   \n",
       "8                                     0                            0   \n",
       "9                                     0                            0   \n",
       "10                                    0                            0   \n",
       "11                                    0                            0   \n",
       "12                                    0                            0   \n",
       "13                                    0                            0   \n",
       "14                                    0                            0   \n",
       "\n",
       "    pnns_groups_1_unknown  \n",
       "0                       1  \n",
       "1                       0  \n",
       "2                       0  \n",
       "3                       0  \n",
       "4                       0  \n",
       "5                       1  \n",
       "6                       0  \n",
       "7                       0  \n",
       "8                       0  \n",
       "9                       0  \n",
       "10                      0  \n",
       "11                      1  \n",
       "12                      1  \n",
       "13                      0  \n",
       "14                      1  \n",
       "\n",
       "[15 rows x 101 columns]"
      ]
     },
     "execution_count": 47,
     "metadata": {},
     "output_type": "execute_result"
    }
   ],
   "source": [
    "data.head(15)"
   ]
  },
  {
   "cell_type": "code",
   "execution_count": 48,
   "metadata": {
    "id": "bpVsh0rR0QFS"
   },
   "outputs": [
    {
     "data": {
      "text/html": [
       "<div>\n",
       "<style scoped>\n",
       "    .dataframe tbody tr th:only-of-type {\n",
       "        vertical-align: middle;\n",
       "    }\n",
       "\n",
       "    .dataframe tbody tr th {\n",
       "        vertical-align: top;\n",
       "    }\n",
       "\n",
       "    .dataframe thead th {\n",
       "        text-align: right;\n",
       "    }\n",
       "</style>\n",
       "<table border=\"1\" class=\"dataframe\">\n",
       "  <thead>\n",
       "    <tr style=\"text-align: right;\">\n",
       "      <th></th>\n",
       "      <th>skew</th>\n",
       "    </tr>\n",
       "  </thead>\n",
       "  <tbody>\n",
       "    <tr>\n",
       "      <th>sodium_100g</th>\n",
       "      <td>69.929272</td>\n",
       "    </tr>\n",
       "    <tr>\n",
       "      <th>Jambon</th>\n",
       "      <td>15.151319</td>\n",
       "    </tr>\n",
       "    <tr>\n",
       "      <th>Crème</th>\n",
       "      <td>15.151319</td>\n",
       "    </tr>\n",
       "    <tr>\n",
       "      <th>Jus</th>\n",
       "      <td>14.975886</td>\n",
       "    </tr>\n",
       "    <tr>\n",
       "      <th>Original</th>\n",
       "      <td>14.806308</td>\n",
       "    </tr>\n",
       "    <tr>\n",
       "      <th>Salade</th>\n",
       "      <td>13.895451</td>\n",
       "    </tr>\n",
       "    <tr>\n",
       "      <th>Sauce</th>\n",
       "      <td>13.131806</td>\n",
       "    </tr>\n",
       "    <tr>\n",
       "      <th>Chocolate</th>\n",
       "      <td>12.379679</td>\n",
       "    </tr>\n",
       "    <tr>\n",
       "      <th>Filet</th>\n",
       "      <td>12.186952</td>\n",
       "    </tr>\n",
       "    <tr>\n",
       "      <th>Bio</th>\n",
       "      <td>11.495329</td>\n",
       "    </tr>\n",
       "    <tr>\n",
       "      <th>Pain</th>\n",
       "      <td>10.839294</td>\n",
       "    </tr>\n",
       "    <tr>\n",
       "      <th>en:poland</th>\n",
       "      <td>10.580704</td>\n",
       "    </tr>\n",
       "    <tr>\n",
       "      <th>Organic</th>\n",
       "      <td>9.652168</td>\n",
       "    </tr>\n",
       "    <tr>\n",
       "      <th>Dairies</th>\n",
       "      <td>6.234219</td>\n",
       "    </tr>\n",
       "    <tr>\n",
       "      <th>fiber_100g</th>\n",
       "      <td>6.189004</td>\n",
       "    </tr>\n",
       "    <tr>\n",
       "      <th>Groceries</th>\n",
       "      <td>6.007393</td>\n",
       "    </tr>\n",
       "    <tr>\n",
       "      <th>Plats</th>\n",
       "      <td>5.969642</td>\n",
       "    </tr>\n",
       "    <tr>\n",
       "      <th>en:switzerland</th>\n",
       "      <td>5.711051</td>\n",
       "    </tr>\n",
       "    <tr>\n",
       "      <th>Pflanzliche</th>\n",
       "      <td>5.510378</td>\n",
       "    </tr>\n",
       "    <tr>\n",
       "      <th>en:belgium</th>\n",
       "      <td>5.318182</td>\n",
       "    </tr>\n",
       "    <tr>\n",
       "      <th>Boissons</th>\n",
       "      <td>5.176550</td>\n",
       "    </tr>\n",
       "    <tr>\n",
       "      <th>Viandes</th>\n",
       "      <td>4.208565</td>\n",
       "    </tr>\n",
       "    <tr>\n",
       "      <th>saturated-fat_100g</th>\n",
       "      <td>4.158079</td>\n",
       "    </tr>\n",
       "    <tr>\n",
       "      <th>Produits</th>\n",
       "      <td>3.955277</td>\n",
       "    </tr>\n",
       "    <tr>\n",
       "      <th>en:mexico</th>\n",
       "      <td>3.899632</td>\n",
       "    </tr>\n",
       "    <tr>\n",
       "      <th>en:spain</th>\n",
       "      <td>3.502571</td>\n",
       "    </tr>\n",
       "    <tr>\n",
       "      <th>en:canada</th>\n",
       "      <td>3.240882</td>\n",
       "    </tr>\n",
       "    <tr>\n",
       "      <th>en:united-kingdom</th>\n",
       "      <td>2.603322</td>\n",
       "    </tr>\n",
       "    <tr>\n",
       "      <th>Plant-based</th>\n",
       "      <td>2.571842</td>\n",
       "    </tr>\n",
       "    <tr>\n",
       "      <th>proteins_100g</th>\n",
       "      <td>2.490702</td>\n",
       "    </tr>\n",
       "    <tr>\n",
       "      <th>fat_100g</th>\n",
       "      <td>2.226577</td>\n",
       "    </tr>\n",
       "    <tr>\n",
       "      <th>Snacks</th>\n",
       "      <td>2.145029</td>\n",
       "    </tr>\n",
       "    <tr>\n",
       "      <th>en:germany</th>\n",
       "      <td>2.059537</td>\n",
       "    </tr>\n",
       "    <tr>\n",
       "      <th>energy-kcal_100g</th>\n",
       "      <td>2.011067</td>\n",
       "    </tr>\n",
       "    <tr>\n",
       "      <th>sugars_100g</th>\n",
       "      <td>1.945164</td>\n",
       "    </tr>\n",
       "    <tr>\n",
       "      <th>en:united-states</th>\n",
       "      <td>1.741093</td>\n",
       "    </tr>\n",
       "    <tr>\n",
       "      <th>Aliments</th>\n",
       "      <td>1.680035</td>\n",
       "    </tr>\n",
       "    <tr>\n",
       "      <th>carbohydrates_100g</th>\n",
       "      <td>0.751549</td>\n",
       "    </tr>\n",
       "    <tr>\n",
       "      <th>nutriscore_score</th>\n",
       "      <td>0.169931</td>\n",
       "    </tr>\n",
       "    <tr>\n",
       "      <th>en:france</th>\n",
       "      <td>-0.070844</td>\n",
       "    </tr>\n",
       "    <tr>\n",
       "      <th>nova_group</th>\n",
       "      <td>-1.159303</td>\n",
       "    </tr>\n",
       "  </tbody>\n",
       "</table>\n",
       "</div>"
      ],
      "text/plain": [
       "                         skew\n",
       "sodium_100g         69.929272\n",
       "Jambon              15.151319\n",
       "Crème               15.151319\n",
       "Jus                 14.975886\n",
       "Original            14.806308\n",
       "Salade              13.895451\n",
       "Sauce               13.131806\n",
       "Chocolate           12.379679\n",
       "Filet               12.186952\n",
       "Bio                 11.495329\n",
       "Pain                10.839294\n",
       "en:poland           10.580704\n",
       "Organic              9.652168\n",
       "Dairies              6.234219\n",
       "fiber_100g           6.189004\n",
       "Groceries            6.007393\n",
       "Plats                5.969642\n",
       "en:switzerland       5.711051\n",
       "Pflanzliche          5.510378\n",
       "en:belgium           5.318182\n",
       "Boissons             5.176550\n",
       "Viandes              4.208565\n",
       "saturated-fat_100g   4.158079\n",
       "Produits             3.955277\n",
       "en:mexico            3.899632\n",
       "en:spain             3.502571\n",
       "en:canada            3.240882\n",
       "en:united-kingdom    2.603322\n",
       "Plant-based          2.571842\n",
       "proteins_100g        2.490702\n",
       "fat_100g             2.226577\n",
       "Snacks               2.145029\n",
       "en:germany           2.059537\n",
       "energy-kcal_100g     2.011067\n",
       "sugars_100g          1.945164\n",
       "en:united-states     1.741093\n",
       "Aliments             1.680035\n",
       "carbohydrates_100g   0.751549\n",
       "nutriscore_score     0.169931\n",
       "en:france           -0.070844\n",
       "nova_group          -1.159303"
      ]
     },
     "execution_count": 48,
     "metadata": {},
     "output_type": "execute_result"
    }
   ],
   "source": [
    "features = data\n",
    "numeric_dtypes = ['int16', 'int32', 'int64', 'float16', 'float32', 'float64']\n",
    "numerics2 = []\n",
    "for i in features.columns:\n",
    "    if features[i].dtype in numeric_dtypes: \n",
    "        numerics2.append(i)\n",
    "\n",
    "skew_features = features[numerics2].apply(lambda x: skew(x)).sort_values(ascending=False)\n",
    "skews = pd.DataFrame({'skew':skew_features})\n",
    "skews"
   ]
  },
  {
   "cell_type": "markdown",
   "metadata": {
    "id": "ZRgqM_bt0RBp"
   },
   "source": [
    "**Some Statistics : Skewness**"
   ]
  },
  {
   "cell_type": "markdown",
   "metadata": {
    "id": "Oj7KVqqK0QT2"
   },
   "source": [
    "**Handling The  Outliers**"
   ]
  },
  {
   "cell_type": "code",
   "execution_count": 49,
   "metadata": {
    "id": "xEyIMYLZ2vaC"
   },
   "outputs": [],
   "source": [
    "tr = data\n",
    "for y in tr.columns :\n",
    "  factor = 4\n",
    "  upper_lim = data[y].mean () + data[y].std () * factor\n",
    "  lower_lim = data[y].mean () - data[y].std () * factor\n",
    "  tr = data[(data[y] < upper_lim) & (data[y] > lower_lim)]"
   ]
  },
  {
   "cell_type": "markdown",
   "metadata": {
    "id": "os6UQSXFKM6G"
   },
   "source": [
    "\n",
    "# Prediction of the nova_group"
   ]
  },
  {
   "cell_type": "code",
   "execution_count": 50,
   "metadata": {
    "id": "FH-0jbL33qpI"
   },
   "outputs": [],
   "source": [
    "X = data.drop(['nova_group'], 1)\n",
    "y = data['nova_group']"
   ]
  },
  {
   "cell_type": "code",
   "execution_count": 51,
   "metadata": {
    "id": "noc-Qhi43epv"
   },
   "outputs": [],
   "source": [
    "overfit = []\n",
    "for i in X.columns:\n",
    "    counts = X[i].value_counts()\n",
    "    zeros = counts.iloc[0]\n",
    "    if zeros / len(X) * 100 >99.94:\n",
    "        overfit.append(i)"
   ]
  },
  {
   "cell_type": "code",
   "execution_count": 52,
   "metadata": {
    "id": "d-1ATJSQ44WA"
   },
   "outputs": [
    {
     "data": {
      "text/plain": [
       "['pnns_groups_2_cereals', 'pnns_groups_1_cereals-and-potatoes']"
      ]
     },
     "execution_count": 52,
     "metadata": {},
     "output_type": "execute_result"
    }
   ],
   "source": [
    "overfit = list(overfit)\n",
    "overfit"
   ]
  },
  {
   "cell_type": "markdown",
   "metadata": {
    "id": "tn5xuoQh5MEu"
   },
   "source": [
    "Let's drop these overfits from 'X' .  "
   ]
  },
  {
   "cell_type": "code",
   "execution_count": 53,
   "metadata": {
    "id": "xtI00pJa5YHE"
   },
   "outputs": [],
   "source": [
    "X.drop(overfit,axis=1,inplace=True)"
   ]
  },
  {
   "cell_type": "markdown",
   "metadata": {
    "id": "tF-IO5EZnUZW"
   },
   "source": [
    "Spliting the datasets into the training set and the test set"
   ]
  },
  {
   "cell_type": "code",
   "execution_count": 54,
   "metadata": {
    "id": "k837xwjD5lsh"
   },
   "outputs": [],
   "source": [
    "X_train, X_test, y_train, y_test = train_test_split(X.values, y.values, test_size = 0.2)"
   ]
  },
  {
   "cell_type": "markdown",
   "metadata": {
    "id": "PNBYoxaAnbPl"
   },
   "source": [
    "Scaling the dataset"
   ]
  },
  {
   "cell_type": "code",
   "execution_count": 55,
   "metadata": {
    "id": "TfQb5Fndkr5E"
   },
   "outputs": [],
   "source": [
    "sc = StandardScaler()\n",
    "X_train = sc.fit_transform(X_train)\n",
    "X_test = sc.transform(X_test)"
   ]
  },
  {
   "cell_type": "markdown",
   "metadata": {
    "id": "FVIeR33iFqoV"
   },
   "source": [
    "Now that the data is ready, we will try to look at the shape of the data in a smaller dimension (equal to 2 in our case). For this, we use different dimension reduction techniques (TSNE, PCA and SVD)"
   ]
  },
  {
   "cell_type": "code",
   "execution_count": 56,
   "metadata": {
    "id": "4oglTeUSDdhL"
   },
   "outputs": [],
   "source": [
    "red_tsne = TSNE(n_components=2,random_state=42).fit_transform(X_train)\n",
    "red_pca = PCA(n_components=2, random_state = 42).fit_transform(X_train)\n",
    "red_svd = TruncatedSVD(n_components = 2, algorithm = 'randomized', random_state = 42).fit_transform(X_train)"
   ]
  },
  {
   "cell_type": "code",
   "execution_count": 57,
   "metadata": {
    "id": "hbQuKQBhoA0a"
   },
   "outputs": [],
   "source": [
    "row = np.random.rand(8000)\n",
    "df = pd.DataFrame(dict(row=row, nutriscore=y_train))"
   ]
  },
  {
   "cell_type": "code",
   "execution_count": 58,
   "metadata": {
    "id": "5BRZIJfhmJbz"
   },
   "outputs": [
    {
     "data": {
      "image/png": "[encoded data removed]",
      "text/plain": [
       "<Figure size 1728x432 with 3 Axes>"
      ]
     },
     "metadata": {},
     "output_type": "display_data"
    }
   ],
   "source": [
    "f, (ax1, ax2, ax3) = plt.subplots(1, 3, figsize=(24,6))\n",
    "f.suptitle('Clusters obtained by Dimensionality Reduction', fontsize=14)\n",
    "colors = {0:'red', 1:'green', 2:'blue',3:'yellow', 4: 'black'}\n",
    "ax1.scatter(red_tsne[:,0], red_tsne[:,1], c = df['nutriscore'].map(colors),  linewidths=2)\n",
    "ax1.set_title('t-SNE', fontsize=14)\n",
    "ax1.grid(True)\n",
    "ax2.scatter(red_pca[:,0], red_pca[:,1], c = df['nutriscore'].map(colors),  linewidths=2)\n",
    "ax2.set_title('PCA', fontsize=14)\n",
    "ax2.grid(True)\n",
    "ax3.scatter(red_svd[:,0], red_svd[:,1], c = df['nutriscore'].map(colors),  linewidths=2)\n",
    "ax3.set_title('Truncated SVD', fontsize=14)\n",
    "ax3.grid(True)\n",
    "plt.show()"
   ]
  },
  {
   "cell_type": "markdown",
   "metadata": {
    "id": "rd-AP6FdF1l3"
   },
   "source": [
    "**Note :** from the data form, we quickly realize that the problem is far from being easy. This is probably due to the surprises that take place during the manufacturing of a product. "
   ]
  },
  {
   "cell_type": "markdown",
   "metadata": {
    "id": "5QQ8foPDF1jb"
   },
   "source": [
    "In this step, we will use three algorithms:\n",
    "  - Two linear algorithms (Logistic Regression & Support Vector Classifier)\n",
    "  - The $K$-Nearest Neighbors Classifier Algorithm\n",
    "  - Two Ensemble learning  algorithms (Random Forest Classifier, Decision Tree Classifier)\n",
    "  - Two Gradient Boosting algorithms (LighGBM, XGBoost)"
   ]
  },
  {
   "cell_type": "code",
   "execution_count": 59,
   "metadata": {
    "id": "VsqHQvgGXwKU"
   },
   "outputs": [],
   "source": [
    "train_accuracies = {'Logistic Regression':0, 'Support Vector Classifier':0, 'K-Neighbors Classifier':0, 'Random Forest Classifier':0, 'Decision Tree Classifier' : 0, \n",
    "                    'XGBoost Classifier' : 0,'lightgbm Classifier' : 0}\n",
    "test_accuracies = {'Logistic Regression':0, 'Support Vector Classifier':0, 'K-Neighbors Classifier':0, 'Random Forest Classifier':0, 'Decision Tree Classifier' : 0, \n",
    "                    'XGBoost Classifier' : 0,'lightgbm Classifier' : 0}"
   ]
  },
  {
   "cell_type": "code",
   "execution_count": 60,
   "metadata": {
    "id": "PN9VxzY0dRB1"
   },
   "outputs": [
    {
     "name": "stderr",
     "output_type": "stream",
     "text": [
      "C:\\Users\\DELL\\anaconda3\\lib\\site-packages\\sklearn\\linear_model\\_logistic.py:762: ConvergenceWarning: lbfgs failed to converge (status=1):\n",
      "STOP: TOTAL NO. of ITERATIONS REACHED LIMIT.\n",
      "\n",
      "Increase the number of iterations (max_iter) or scale the data as shown in:\n",
      "    https://scikit-learn.org/stable/modules/preprocessing.html\n",
      "Please also refer to the documentation for alternative solver options:\n",
      "    https://scikit-learn.org/stable/modules/linear_model.html#logistic-regression\n",
      "  n_iter_i = _check_optimize_result(\n"
     ]
    }
   ],
   "source": [
    "lgr = LogisticRegression()\n",
    "lgr.fit(X_train , y_train)\n",
    "train_preds = lgr.predict(X_train)\n",
    "test_preds = lgr.predict(X_test)\n",
    "scores1 = cross_val_score(lgr, train_preds.reshape(-1, 1), y_train.ravel(), scoring= 'accuracy', cv=10)\n",
    "scores2 = cross_val_score(lgr, test_preds.reshape(-1, 1), y_test.ravel(), scoring= 'accuracy', cv=10)"
   ]
  },
  {
   "cell_type": "code",
   "execution_count": 61,
   "metadata": {
    "id": "0MawYbncFoyJ"
   },
   "outputs": [
    {
     "name": "stdout",
     "output_type": "stream",
     "text": [
      "Logistic Regression results :\n",
      "   -   Accuracy on the train set : 61.23%\n",
      "   -   Accuracy on the test set : 59.45%\n"
     ]
    }
   ],
   "source": [
    "print(\"Logistic Regression results :\")\n",
    "print(\"   -   Accuracy on the train set : {:.2f}%\".format(scores1.mean()*100))\n",
    "train_accuracies['Logistic Regression'] = scores1.mean()*100\n",
    "print(\"   -   Accuracy on the test set : {:.2f}%\".format(scores2.mean()*100))\n",
    "test_accuracies['Logistic Regression'] = scores2.mean()*100"
   ]
  },
  {
   "cell_type": "code",
   "execution_count": 62,
   "metadata": {
    "id": "nxIIjXzdamXK"
   },
   "outputs": [],
   "source": [
    "svc = SVC()\n",
    "svc.fit(X_train , y_train)\n",
    "train_preds = svc.predict(X_train)\n",
    "test_preds = svc.predict(X_test)\n",
    "scores1 = cross_val_score(svc, train_preds.reshape(-1, 1), y_train.ravel(), scoring= 'accuracy', cv=10)\n",
    "scores2 = cross_val_score(svc, test_preds.reshape(-1, 1), y_test.ravel(), scoring= 'accuracy', cv=10)"
   ]
  },
  {
   "cell_type": "code",
   "execution_count": 63,
   "metadata": {
    "id": "p0d3zTbEZR7m"
   },
   "outputs": [
    {
     "name": "stdout",
     "output_type": "stream",
     "text": [
      "Support Vector Classifier results :\n",
      "   -   Accuracy on the train set : 69.67%\n",
      "   -   Accuracy on the test set : 64.00%\n"
     ]
    }
   ],
   "source": [
    "print(\"Support Vector Classifier results :\")\n",
    "print(\"   -   Accuracy on the train set : {:.2f}%\".format(scores1.mean()*100))\n",
    "train_accuracies['Support Vector Classifier'] = scores1.mean()*100\n",
    "print(\"   -   Accuracy on the test set : {:.2f}%\".format(scores2.mean()*100))\n",
    "test_accuracies['Support Vector Classifier'] = scores2.mean()*100"
   ]
  },
  {
   "cell_type": "code",
   "execution_count": 64,
   "metadata": {
    "id": "b-idTS_J2xdy"
   },
   "outputs": [],
   "source": [
    "knn = KNeighborsClassifier()\n",
    "knn.fit(X_train , y_train)\n",
    "train_preds = knn.predict(X_train)\n",
    "test_preds = knn.predict(X_test)\n",
    "scores1 = cross_val_score(knn, train_preds.reshape(-1, 1), y_train.ravel(), scoring= 'accuracy', cv=10)\n",
    "scores2 = cross_val_score(knn, test_preds.reshape(-1, 1), y_test.ravel(), scoring= 'accuracy', cv=10)"
   ]
  },
  {
   "cell_type": "code",
   "execution_count": 65,
   "metadata": {
    "id": "2NVjuljY24Ip"
   },
   "outputs": [
    {
     "name": "stdout",
     "output_type": "stream",
     "text": [
      "K-Neighbors Classifier results :\n",
      "   -   Accuracy on the train set : 72.24%\n",
      "   -   Accuracy on the test set : 61.80%\n"
     ]
    }
   ],
   "source": [
    "print(\"K-Neighbors Classifier results :\")\n",
    "print(\"   -   Accuracy on the train set : {:.2f}%\".format(scores1.mean()*100))\n",
    "train_accuracies['K-Neighbors Classifier'] = scores1.mean()*100\n",
    "print(\"   -   Accuracy on the test set : {:.2f}%\".format(scores2.mean()*100))\n",
    "test_accuracies['K-Neighbors Classifier'] = scores2.mean()*100"
   ]
  },
  {
   "cell_type": "code",
   "execution_count": 66,
   "metadata": {
    "id": "8iiZEmKaZSAu"
   },
   "outputs": [],
   "source": [
    "dt = DecisionTreeClassifier()\n",
    "dt.fit(X_train , y_train)\n",
    "train_preds = dt.predict(X_train)\n",
    "test_preds = dt.predict(X_test)\n",
    "scores1 = cross_val_score(dt, train_preds.reshape(-1, 1), y_train.ravel(), scoring= 'accuracy', cv=10)\n",
    "scores2 = cross_val_score(dt, test_preds.reshape(-1, 1), y_test.ravel(), scoring= 'accuracy', cv=10)"
   ]
  },
  {
   "cell_type": "code",
   "execution_count": 67,
   "metadata": {
    "id": "UGn-jd0O4oDH"
   },
   "outputs": [
    {
     "name": "stdout",
     "output_type": "stream",
     "text": [
      "Decision Tree Classifier results :\n",
      "   -   Accuracy on the train set : 95.50%\n",
      "   -   Accuracy on the test set : 61.95%\n"
     ]
    }
   ],
   "source": [
    "print(\"Decision Tree Classifier results :\")\n",
    "print(\"   -   Accuracy on the train set : {:.2f}%\".format(scores1.mean()*100))\n",
    "train_accuracies['Decision Tree Classifier'] = scores1.mean()*100\n",
    "print(\"   -   Accuracy on the test set : {:.2f}%\".format(scores2.mean()*100))\n",
    "test_accuracies['Decision Tree Classifier'] = scores2.mean()*100"
   ]
  },
  {
   "cell_type": "code",
   "execution_count": 68,
   "metadata": {
    "id": "cOYM0SCm44s1"
   },
   "outputs": [],
   "source": [
    "rf = RandomForestClassifier()\n",
    "rf.fit(X_train , y_train)\n",
    "train_preds = rf.predict(X_train)\n",
    "test_preds = rf.predict(X_test)\n",
    "scores1 = cross_val_score(rf, train_preds.reshape(-1, 1), y_train.ravel(), scoring= 'accuracy', cv=10)\n",
    "scores2 = cross_val_score(rf, test_preds.reshape(-1, 1), y_test.ravel(), scoring= 'accuracy', cv=10)"
   ]
  },
  {
   "cell_type": "code",
   "execution_count": 69,
   "metadata": {
    "id": "tdzLCDkzZR_c"
   },
   "outputs": [
    {
     "name": "stdout",
     "output_type": "stream",
     "text": [
      "Random Forest Classifier results :\n",
      "   -   Accuracy on the train set : 95.50%\n",
      "   -   Accuracy on the test set : 69.55%\n"
     ]
    }
   ],
   "source": [
    "print(\"Random Forest Classifier results :\")\n",
    "print(\"   -   Accuracy on the train set : {:.2f}%\".format(scores1.mean()*100))\n",
    "train_accuracies['Random Forest Classifier'] = scores1.mean()*100\n",
    "print(\"   -   Accuracy on the test set : {:.2f}%\".format(scores2.mean()*100))\n",
    "test_accuracies['Random Forest Classifier'] = scores2.mean()*100"
   ]
  },
  {
   "cell_type": "code",
   "execution_count": 70,
   "metadata": {
    "id": "817aorppZR6F"
   },
   "outputs": [],
   "source": [
    "gb = XGBClassifier()\n",
    "gb.fit(X_train , y_train)\n",
    "train_preds = gb.predict(X_train)\n",
    "test_preds = gb.predict(X_test)\n",
    "scores1 = cross_val_score(gb, X = train_preds.reshape(-1, 1), y = y_train.ravel(), scoring= 'accuracy', cv=10)\n",
    "scores2 = cross_val_score(gb, X =  test_preds.reshape(-1, 1), y = y_test.ravel(), scoring= 'accuracy', cv=10)"
   ]
  },
  {
   "cell_type": "code",
   "execution_count": 71,
   "metadata": {
    "id": "X_kIyOpWgq6Q"
   },
   "outputs": [
    {
     "name": "stdout",
     "output_type": "stream",
     "text": [
      "XGBoost Classifier results :\n",
      "   -   Accuracy on the train set : 89.79%\n",
      "   -   Accuracy on the test set : 70.10%\n"
     ]
    }
   ],
   "source": [
    "print(\"XGBoost Classifier results :\")\n",
    "print(\"   -   Accuracy on the train set : {:.2f}%\".format(scores1.mean()*100))\n",
    "train_accuracies['XGBoost Classifier'] = scores1.mean()*100\n",
    "print(\"   -   Accuracy on the test set : {:.2f}%\".format(scores2.mean()*100))\n",
    "test_accuracies['XGBoost Classifier'] = scores2.mean()*100"
   ]
  },
  {
   "cell_type": "code",
   "execution_count": 72,
   "metadata": {
    "id": "ZEJ-CU9lgq4s"
   },
   "outputs": [],
   "source": [
    "gbm = lgb.LGBMClassifier()\n",
    "gbm.fit(X_train , y_train)\n",
    "train_preds = gbm.predict(X_train)\n",
    "test_preds = gbm.predict(X_test)\n",
    "scores1 = cross_val_score(gb, X = train_preds.reshape(-1, 1), y = y_train.ravel(), scoring= 'accuracy', cv=10)\n",
    "scores2 = cross_val_score(gb, X =  test_preds.reshape(-1, 1), y = y_test.ravel(), scoring= 'accuracy', cv=10)"
   ]
  },
  {
   "cell_type": "code",
   "execution_count": 73,
   "metadata": {
    "id": "L1vBoNEVgq2H"
   },
   "outputs": [
    {
     "name": "stdout",
     "output_type": "stream",
     "text": [
      "XGBoost Classifier results :\n",
      "   -   Accuracy on the train set : 88.42%\n",
      "   -   Accuracy on the test set : 69.85%\n"
     ]
    }
   ],
   "source": [
    "print(\"XGBoost Classifier results :\")\n",
    "print(\"   -   Accuracy on the train set : {:.2f}%\".format(scores1.mean()*100))\n",
    "train_accuracies['lightgbm Classifier'] = scores1.mean()*100\n",
    "print(\"   -   Accuracy on the test set : {:.2f}%\".format(scores2.mean()*100))\n",
    "test_accuracies['lightgbm Classifier'] = scores2.mean()*100"
   ]
  },
  {
   "cell_type": "code",
   "execution_count": 74,
   "metadata": {
    "id": "LZxwEZmWgq0O"
   },
   "outputs": [
    {
     "data": {
      "text/plain": [
       "{'Logistic Regression': 61.22500000000001,\n",
       " 'Support Vector Classifier': 69.675,\n",
       " 'K-Neighbors Classifier': 72.23750000000001,\n",
       " 'Random Forest Classifier': 95.49999999999999,\n",
       " 'Decision Tree Classifier': 95.5,\n",
       " 'XGBoost Classifier': 89.78749999999998,\n",
       " 'lightgbm Classifier': 88.425}"
      ]
     },
     "execution_count": 74,
     "metadata": {},
     "output_type": "execute_result"
    }
   ],
   "source": [
    "train_accuracies"
   ]
  },
  {
   "cell_type": "code",
   "execution_count": 75,
   "metadata": {
    "id": "3h1xyLxY71ms"
   },
   "outputs": [
    {
     "data": {
      "text/plain": [
       "{'Logistic Regression': 59.44999999999998,\n",
       " 'Support Vector Classifier': 64.0,\n",
       " 'K-Neighbors Classifier': 61.8,\n",
       " 'Random Forest Classifier': 69.55,\n",
       " 'Decision Tree Classifier': 61.949999999999996,\n",
       " 'XGBoost Classifier': 70.1,\n",
       " 'lightgbm Classifier': 69.85000000000001}"
      ]
     },
     "execution_count": 75,
     "metadata": {},
     "output_type": "execute_result"
    }
   ],
   "source": [
    "test_accuracies"
   ]
  },
  {
   "cell_type": "code",
   "execution_count": 76,
   "metadata": {
    "id": "p4NMVRrVGXWM"
   },
   "outputs": [
    {
     "data": {
      "image/png": "[encoded data removed]",
      "text/plain": [
       "<Figure size 1008x576 with 1 Axes>"
      ]
     },
     "metadata": {},
     "output_type": "display_data"
    }
   ],
   "source": [
    "ind = np.arange(7)\n",
    "width = 0.2\n",
    "\n",
    "fig = plt.figure(figsize=(14,8))\n",
    "ax = fig.add_subplot(111)\n",
    "\n",
    "rects1 = ax.bar(ind, list(train_accuracies.values()), width, color='b')\n",
    "rects2 = ax.bar(ind+width, list(test_accuracies.values()), width, color='g')\n",
    "\n",
    "ax.set_ylabel('Accuracy Score (%)')\n",
    "ax.set_xticks(ind+width)\n",
    "ax.set_xticklabels(list(test_accuracies.keys()) )\n",
    "ax.legend((rects1[0], rects2[0]), ('Train Accuracy', 'Test Accuracy'))\n",
    "\n",
    "plt.ylim((20,120))\n",
    "plt.show()\n"
   ]
  },
  {
   "cell_type": "markdown",
   "metadata": {
    "id": "X4mWw_9tI2np"
   },
   "source": [
    "As we have seen from the data visualization, the **Ensemble Modeling algorithms**  are the most efficient although the data are far from being linearly separable. Moreover, **Random Forest** seems to be the most promising model in our case since it is the one that overfits less the data."
   ]
  },
  {
   "cell_type": "code",
   "execution_count": 77,
   "metadata": {
    "id": "1bK6KSknfBjn"
   },
   "outputs": [],
   "source": [
    "y_pred = rf.predict(X_test)"
   ]
  },
  {
   "cell_type": "code",
   "execution_count": 78,
   "metadata": {
    "id": "0CyHzUEJjYPi"
   },
   "outputs": [
    {
     "name": "stdout",
     "output_type": "stream",
     "text": [
      "Saved file: Predictions.csv\n"
     ]
    }
   ],
   "source": [
    "output = pd.DataFrame({'Nutriscore_grade_Prediction': y_pred})\n",
    "\n",
    "filename = 'Predictions.csv'\n",
    "\n",
    "output.to_csv(filename,index=False)\n",
    "\n",
    "print('Saved file: ' + filename)"
   ]
  }
 ],
 "metadata": {
  "accelerator": "GPU",
  "colab": {
   "collapsed_sections": [],
   "name": "Prediction of the Nova Group.ipynb",
   "private_outputs": true,
   "provenance": []
  },
  "kernelspec": {
   "display_name": "Python 3",
   "language": "python",
   "name": "python3"
  },
  "language_info": {
   "codemirror_mode": {
    "name": "ipython",
    "version": 3
   },
   "file_extension": ".py",
   "mimetype": "text/x-python",
   "name": "python",
   "nbconvert_exporter": "python",
   "pygments_lexer": "ipython3",
   "version": "3.8.3"
  }
 },
 "nbformat": 4,
 "nbformat_minor": 1
}
